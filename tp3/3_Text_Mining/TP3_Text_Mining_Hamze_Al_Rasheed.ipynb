{
  "nbformat": 4,
  "nbformat_minor": 0,
  "metadata": {
    "colab": {
      "name": "TP3_Text_Mining_Hamze_Al_Rasheed.ipynb",
      "provenance": [],
      "collapsed_sections": []
    },
    "kernelspec": {
      "name": "python3",
      "display_name": "Python 3"
    },
    "language_info": {
      "name": "python"
    }
  },
  "cells": [
    {
      "cell_type": "markdown",
      "source": [
        "# TP3 - Text Mining"
      ],
      "metadata": {
        "id": "PYEoQIlHjz1M"
      }
    },
    {
      "cell_type": "markdown",
      "source": [
        "Installation de la librairie nltk"
      ],
      "metadata": {
        "id": "nn73Wf_Xby5q"
      }
    },
    {
      "cell_type": "code",
      "source": [
        "#!pip install nltk"
      ],
      "metadata": {
        "id": "Y-84fIuhY5rY"
      },
      "execution_count": 431,
      "outputs": []
    },
    {
      "cell_type": "markdown",
      "source": [
        "Importation des différentes librairies:"
      ],
      "metadata": {
        "id": "HZCSnQnG6fgt"
      }
    },
    {
      "cell_type": "code",
      "execution_count": 432,
      "metadata": {
        "id": "wvI8fjOOUyKk"
      },
      "outputs": [],
      "source": [
        "import nltk\n",
        "from nltk.tokenize import sent_tokenize\n",
        "from nltk.tokenize import word_tokenize\n",
        "from nltk.probability import FreqDist\n",
        "from nltk.corpus import stopwords\n",
        "from nltk.stem import PorterStemmer\n",
        "from nltk.stem.wordnet import WordNetLemmatizer\n",
        "from sklearn.metrics import accuracy_score\n",
        "\n",
        "import matplotlib.pyplot as plt"
      ]
    },
    {
      "cell_type": "markdown",
      "source": [
        "On télécharge les listes de mots adéquats:"
      ],
      "metadata": {
        "id": "YUgBQVJMbuMa"
      }
    },
    {
      "cell_type": "code",
      "source": [
        "nltk.download('punkt')\n",
        "nltk.download('stopwords')\n",
        "nltk.download('wordnet')"
      ],
      "metadata": {
        "id": "NZ5lnhhmZCV_",
        "colab": {
          "base_uri": "https://localhost:8080/"
        },
        "outputId": "ffd7f067-483e-4512-d235-fca39bca8368"
      },
      "execution_count": 433,
      "outputs": [
        {
          "output_type": "stream",
          "name": "stdout",
          "text": [
            "[nltk_data] Downloading package punkt to /root/nltk_data...\n",
            "[nltk_data]   Package punkt is already up-to-date!\n",
            "[nltk_data] Downloading package stopwords to /root/nltk_data...\n",
            "[nltk_data]   Package stopwords is already up-to-date!\n",
            "[nltk_data] Downloading package wordnet to /root/nltk_data...\n",
            "[nltk_data]   Package wordnet is already up-to-date!\n"
          ]
        },
        {
          "output_type": "execute_result",
          "data": {
            "text/plain": [
              "True"
            ]
          },
          "metadata": {},
          "execution_count": 433
        }
      ]
    },
    {
      "cell_type": "markdown",
      "source": [
        "---\n",
        "## Utilisation de NLTK"
      ],
      "metadata": {
        "id": "Rxoan8wAj40w"
      }
    },
    {
      "cell_type": "markdown",
      "source": [
        "La première partie du TP consiste à vous familiariser avec la librairie NLTK et à appliquer ce que vous venez de voir en cours. Pour cette partie, vous utiliserez le texte ci-dessous."
      ],
      "metadata": {
        "id": "3pkjJmx76oP3"
      }
    },
    {
      "cell_type": "code",
      "source": [
        "text = \"\"\"Privacy is necessary for an open society in the electronic age. Privacy is not secrecy. A private matter \n",
        "is something one doesn't want the whole world to know, but a secret matter is something one doesn't want anybody \n",
        "to know. Privacy is the power to selectively reveal oneself to the world.\"\"\""
      ],
      "metadata": {
        "id": "9R4xTLUpYEHV"
      },
      "execution_count": 434,
      "outputs": []
    },
    {
      "cell_type": "markdown",
      "source": [
        "1. En utilisant nltk, découpez le *text* en phrase: **sent_tokenize()**"
      ],
      "metadata": {
        "id": "Fw2Nu2fuYoc3"
      }
    },
    {
      "cell_type": "code",
      "source": [
        "tokenized_text = sent_tokenize(text)\n",
        "tokenized_text"
      ],
      "metadata": {
        "id": "g4DoeuRtYE5o",
        "colab": {
          "base_uri": "https://localhost:8080/"
        },
        "outputId": "16b0982b-6061-4a47-b34c-92a692db09fc"
      },
      "execution_count": 435,
      "outputs": [
        {
          "output_type": "execute_result",
          "data": {
            "text/plain": [
              "['Privacy is necessary for an open society in the electronic age.',\n",
              " 'Privacy is not secrecy.',\n",
              " \"A private matter \\nis something one doesn't want the whole world to know, but a secret matter is something one doesn't want anybody \\nto know.\",\n",
              " 'Privacy is the power to selectively reveal oneself to the world.']"
            ]
          },
          "metadata": {},
          "execution_count": 435
        }
      ]
    },
    {
      "cell_type": "markdown",
      "source": [
        "2. Découpez le *text* en token/mot: **word_tokenize()**\n",
        "\n",
        "\n"
      ],
      "metadata": {
        "id": "uDro2NrDZRTQ"
      }
    },
    {
      "cell_type": "code",
      "source": [
        "tokenized_word = word_tokenize(text)\n",
        "tokenized_word"
      ],
      "metadata": {
        "id": "eT96WIJ3Yxum",
        "colab": {
          "base_uri": "https://localhost:8080/"
        },
        "outputId": "a3e4f1a2-0ec1-4654-e4d3-a025e0b1957d"
      },
      "execution_count": 436,
      "outputs": [
        {
          "output_type": "execute_result",
          "data": {
            "text/plain": [
              "['Privacy',\n",
              " 'is',\n",
              " 'necessary',\n",
              " 'for',\n",
              " 'an',\n",
              " 'open',\n",
              " 'society',\n",
              " 'in',\n",
              " 'the',\n",
              " 'electronic',\n",
              " 'age',\n",
              " '.',\n",
              " 'Privacy',\n",
              " 'is',\n",
              " 'not',\n",
              " 'secrecy',\n",
              " '.',\n",
              " 'A',\n",
              " 'private',\n",
              " 'matter',\n",
              " 'is',\n",
              " 'something',\n",
              " 'one',\n",
              " 'does',\n",
              " \"n't\",\n",
              " 'want',\n",
              " 'the',\n",
              " 'whole',\n",
              " 'world',\n",
              " 'to',\n",
              " 'know',\n",
              " ',',\n",
              " 'but',\n",
              " 'a',\n",
              " 'secret',\n",
              " 'matter',\n",
              " 'is',\n",
              " 'something',\n",
              " 'one',\n",
              " 'does',\n",
              " \"n't\",\n",
              " 'want',\n",
              " 'anybody',\n",
              " 'to',\n",
              " 'know',\n",
              " '.',\n",
              " 'Privacy',\n",
              " 'is',\n",
              " 'the',\n",
              " 'power',\n",
              " 'to',\n",
              " 'selectively',\n",
              " 'reveal',\n",
              " 'oneself',\n",
              " 'to',\n",
              " 'the',\n",
              " 'world',\n",
              " '.']"
            ]
          },
          "metadata": {},
          "execution_count": 436
        }
      ]
    },
    {
      "cell_type": "markdown",
      "source": [
        "3. Calculez la distribution de fréquence des mots à partir du résultat précédent: **FreqDist()** et **most_common()**"
      ],
      "metadata": {
        "id": "BhBze77SZtYj"
      }
    },
    {
      "cell_type": "code",
      "source": [
        "fdist = FreqDist(tokenized_word)\n",
        "fdist.most_common()"
      ],
      "metadata": {
        "id": "KpY0fffXZT7J",
        "colab": {
          "base_uri": "https://localhost:8080/"
        },
        "outputId": "0c5f400d-6747-478c-acb8-292dac94b180"
      },
      "execution_count": 437,
      "outputs": [
        {
          "output_type": "execute_result",
          "data": {
            "text/plain": [
              "[('is', 5),\n",
              " ('the', 4),\n",
              " ('.', 4),\n",
              " ('to', 4),\n",
              " ('Privacy', 3),\n",
              " ('matter', 2),\n",
              " ('something', 2),\n",
              " ('one', 2),\n",
              " ('does', 2),\n",
              " (\"n't\", 2),\n",
              " ('want', 2),\n",
              " ('world', 2),\n",
              " ('know', 2),\n",
              " ('necessary', 1),\n",
              " ('for', 1),\n",
              " ('an', 1),\n",
              " ('open', 1),\n",
              " ('society', 1),\n",
              " ('in', 1),\n",
              " ('electronic', 1),\n",
              " ('age', 1),\n",
              " ('not', 1),\n",
              " ('secrecy', 1),\n",
              " ('A', 1),\n",
              " ('private', 1),\n",
              " ('whole', 1),\n",
              " (',', 1),\n",
              " ('but', 1),\n",
              " ('a', 1),\n",
              " ('secret', 1),\n",
              " ('anybody', 1),\n",
              " ('power', 1),\n",
              " ('selectively', 1),\n",
              " ('reveal', 1),\n",
              " ('oneself', 1)]"
            ]
          },
          "metadata": {},
          "execution_count": 437
        }
      ]
    },
    {
      "cell_type": "markdown",
      "source": [
        "4. Quel mot est le plus utilisé? Quel mot est utilisé 3 fois ?"
      ],
      "metadata": {
        "id": "jyiIiivqaxHi"
      }
    },
    {
      "cell_type": "code",
      "source": [
        "fdist.most_common(1)\n",
        "# le mot est le plus utilisé : is\n",
        "# le mot est utilisé 3 fois : Privacy"
      ],
      "metadata": {
        "id": "9kSa7lNza_mE",
        "colab": {
          "base_uri": "https://localhost:8080/"
        },
        "outputId": "3e4d7ff7-0607-4230-b54f-580e8680f352"
      },
      "execution_count": 438,
      "outputs": [
        {
          "output_type": "execute_result",
          "data": {
            "text/plain": [
              "[('is', 5)]"
            ]
          },
          "metadata": {},
          "execution_count": 438
        }
      ]
    },
    {
      "cell_type": "markdown",
      "source": [
        "5. Tracer la distribution de fréquence des mots: **FreqDist().plot()**"
      ],
      "metadata": {
        "id": "oN-nrFAaa_37"
      }
    },
    {
      "cell_type": "code",
      "source": [
        "# Frequency plot\n",
        "fdist.plot()"
      ],
      "metadata": {
        "id": "UaS2Wmrkaw2-",
        "colab": {
          "base_uri": "https://localhost:8080/",
          "height": 334
        },
        "outputId": "5df68f61-beb9-474c-faf6-7cad66aa0aa6"
      },
      "execution_count": 439,
      "outputs": [
        {
          "output_type": "display_data",
          "data": {
            "image/png": "[encoded data removed]",
            "text/plain": [
              "<Figure size 432x288 with 1 Axes>"
            ]
          },
          "metadata": {}
        }
      ]
    },
    {
      "cell_type": "markdown",
      "source": [
        "Téléchargez les stopwords et affichez les:"
      ],
      "metadata": {
        "id": "hTuft6E4bU9l"
      }
    },
    {
      "cell_type": "code",
      "source": [
        "# Download\n",
        "stop_words = set(stopwords.words(\"english\"))\n",
        "\n",
        "# Print it\n",
        "stop_words"
      ],
      "metadata": {
        "id": "CwDVEeIwbMGX",
        "colab": {
          "base_uri": "https://localhost:8080/"
        },
        "outputId": "771cc071-4f38-4e6e-e52f-9668ad40b0a9"
      },
      "execution_count": 440,
      "outputs": [
        {
          "output_type": "execute_result",
          "data": {
            "text/plain": [
              "{'a',\n",
              " 'about',\n",
              " 'above',\n",
              " 'after',\n",
              " 'again',\n",
              " 'against',\n",
              " 'ain',\n",
              " 'all',\n",
              " 'am',\n",
              " 'an',\n",
              " 'and',\n",
              " 'any',\n",
              " 'are',\n",
              " 'aren',\n",
              " \"aren't\",\n",
              " 'as',\n",
              " 'at',\n",
              " 'be',\n",
              " 'because',\n",
              " 'been',\n",
              " 'before',\n",
              " 'being',\n",
              " 'below',\n",
              " 'between',\n",
              " 'both',\n",
              " 'but',\n",
              " 'by',\n",
              " 'can',\n",
              " 'couldn',\n",
              " \"couldn't\",\n",
              " 'd',\n",
              " 'did',\n",
              " 'didn',\n",
              " \"didn't\",\n",
              " 'do',\n",
              " 'does',\n",
              " 'doesn',\n",
              " \"doesn't\",\n",
              " 'doing',\n",
              " 'don',\n",
              " \"don't\",\n",
              " 'down',\n",
              " 'during',\n",
              " 'each',\n",
              " 'few',\n",
              " 'for',\n",
              " 'from',\n",
              " 'further',\n",
              " 'had',\n",
              " 'hadn',\n",
              " \"hadn't\",\n",
              " 'has',\n",
              " 'hasn',\n",
              " \"hasn't\",\n",
              " 'have',\n",
              " 'haven',\n",
              " \"haven't\",\n",
              " 'having',\n",
              " 'he',\n",
              " 'her',\n",
              " 'here',\n",
              " 'hers',\n",
              " 'herself',\n",
              " 'him',\n",
              " 'himself',\n",
              " 'his',\n",
              " 'how',\n",
              " 'i',\n",
              " 'if',\n",
              " 'in',\n",
              " 'into',\n",
              " 'is',\n",
              " 'isn',\n",
              " \"isn't\",\n",
              " 'it',\n",
              " \"it's\",\n",
              " 'its',\n",
              " 'itself',\n",
              " 'just',\n",
              " 'll',\n",
              " 'm',\n",
              " 'ma',\n",
              " 'me',\n",
              " 'mightn',\n",
              " \"mightn't\",\n",
              " 'more',\n",
              " 'most',\n",
              " 'mustn',\n",
              " \"mustn't\",\n",
              " 'my',\n",
              " 'myself',\n",
              " 'needn',\n",
              " \"needn't\",\n",
              " 'no',\n",
              " 'nor',\n",
              " 'not',\n",
              " 'now',\n",
              " 'o',\n",
              " 'of',\n",
              " 'off',\n",
              " 'on',\n",
              " 'once',\n",
              " 'only',\n",
              " 'or',\n",
              " 'other',\n",
              " 'our',\n",
              " 'ours',\n",
              " 'ourselves',\n",
              " 'out',\n",
              " 'over',\n",
              " 'own',\n",
              " 're',\n",
              " 's',\n",
              " 'same',\n",
              " 'shan',\n",
              " \"shan't\",\n",
              " 'she',\n",
              " \"she's\",\n",
              " 'should',\n",
              " \"should've\",\n",
              " 'shouldn',\n",
              " \"shouldn't\",\n",
              " 'so',\n",
              " 'some',\n",
              " 'such',\n",
              " 't',\n",
              " 'than',\n",
              " 'that',\n",
              " \"that'll\",\n",
              " 'the',\n",
              " 'their',\n",
              " 'theirs',\n",
              " 'them',\n",
              " 'themselves',\n",
              " 'then',\n",
              " 'there',\n",
              " 'these',\n",
              " 'they',\n",
              " 'this',\n",
              " 'those',\n",
              " 'through',\n",
              " 'to',\n",
              " 'too',\n",
              " 'under',\n",
              " 'until',\n",
              " 'up',\n",
              " 've',\n",
              " 'very',\n",
              " 'was',\n",
              " 'wasn',\n",
              " \"wasn't\",\n",
              " 'we',\n",
              " 'were',\n",
              " 'weren',\n",
              " \"weren't\",\n",
              " 'what',\n",
              " 'when',\n",
              " 'where',\n",
              " 'which',\n",
              " 'while',\n",
              " 'who',\n",
              " 'whom',\n",
              " 'why',\n",
              " 'will',\n",
              " 'with',\n",
              " 'won',\n",
              " \"won't\",\n",
              " 'wouldn',\n",
              " \"wouldn't\",\n",
              " 'y',\n",
              " 'you',\n",
              " \"you'd\",\n",
              " \"you'll\",\n",
              " \"you're\",\n",
              " \"you've\",\n",
              " 'your',\n",
              " 'yours',\n",
              " 'yourself',\n",
              " 'yourselves'}"
            ]
          },
          "metadata": {},
          "execution_count": 440
        }
      ]
    },
    {
      "cell_type": "markdown",
      "source": [
        "6. Supprimez les stopwords de tokenized_word. Vous devez faire une boucle sur cette liste. Affichez le *text* original versus le *text* filtré."
      ],
      "metadata": {
        "id": "bMpk1jE7banv"
      }
    },
    {
      "cell_type": "code",
      "source": [
        "# Loop over tokenized_word\n",
        "def delete_stop_words(tokenized_word):\n",
        "  for word in tokenized_word:\n",
        "    if word in stop_words:\n",
        "      tokenized_word.remove(word)\n",
        "print(tokenized_word)\n",
        "delete_stop_words(tokenized_word)\n",
        "print(tokenized_word)"
      ],
      "metadata": {
        "id": "Tp59p6IobbA4",
        "colab": {
          "base_uri": "https://localhost:8080/"
        },
        "outputId": "5261ea08-2192-4398-9bca-ba2a57dc1c41"
      },
      "execution_count": 441,
      "outputs": [
        {
          "output_type": "stream",
          "name": "stdout",
          "text": [
            "['Privacy', 'is', 'necessary', 'for', 'an', 'open', 'society', 'in', 'the', 'electronic', 'age', '.', 'Privacy', 'is', 'not', 'secrecy', '.', 'A', 'private', 'matter', 'is', 'something', 'one', 'does', \"n't\", 'want', 'the', 'whole', 'world', 'to', 'know', ',', 'but', 'a', 'secret', 'matter', 'is', 'something', 'one', 'does', \"n't\", 'want', 'anybody', 'to', 'know', '.', 'Privacy', 'is', 'the', 'power', 'to', 'selectively', 'reveal', 'oneself', 'to', 'the', 'world', '.']\n",
            "['Privacy', 'necessary', 'an', 'open', 'society', 'electronic', 'age', '.', 'Privacy', 'not', 'secrecy', '.', 'A', 'private', 'matter', 'something', 'one', \"n't\", 'want', 'the', 'whole', 'world', 'know', ',', 'a', 'secret', 'matter', 'something', 'one', \"n't\", 'want', 'anybody', 'know', '.', 'Privacy', 'the', 'power', 'selectively', 'reveal', 'oneself', 'the', 'world', '.']\n"
          ]
        }
      ]
    },
    {
      "cell_type": "markdown",
      "source": [
        "**Exemple:** la cellule suivante montre comment réaliser la lemmatisation et le stemming sur le mot 'flying'."
      ],
      "metadata": {
        "id": "QW0MtQGkhQ_u"
      }
    },
    {
      "cell_type": "code",
      "source": [
        "# Load Lemmatization\n",
        "lem = WordNetLemmatizer()\n",
        "# Load Stemming\n",
        "ps = PorterStemmer()\n",
        "\n",
        "word = \"flying\"\n",
        "print(\"Lemmatized Word:\", lem.lemmatize(word,\"v\"))\n",
        "print(\"Stemmed Word:\", ps.stem(word))"
      ],
      "metadata": {
        "id": "ddMUBDyufEqi",
        "colab": {
          "base_uri": "https://localhost:8080/"
        },
        "outputId": "a0ca81aa-228c-4586-b983-3f3b5b9fedad"
      },
      "execution_count": 442,
      "outputs": [
        {
          "output_type": "stream",
          "name": "stdout",
          "text": [
            "Lemmatized Word: fly\n",
            "Stemmed Word: fli\n"
          ]
        }
      ]
    },
    {
      "cell_type": "markdown",
      "source": [
        "7. Réalisez du stemming sur les tokens sans les stopwords obtenus précédemment. **Tips:** comme précédemment vous pouvez faire une boucle."
      ],
      "metadata": {
        "id": "SBVe5IBgbbZH"
      }
    },
    {
      "cell_type": "code",
      "source": [
        "# Stemming\n",
        "stemming_tokenized_word = []\n",
        "print(tokenized_word)\n",
        "for word in tokenized_word:\n",
        "  stemming_tokenized_word.append(ps.stem(word))\n",
        "print(stemming_tokenized_word)"
      ],
      "metadata": {
        "id": "onA8nep9e1Ib",
        "colab": {
          "base_uri": "https://localhost:8080/"
        },
        "outputId": "49c70313-9a01-4aaa-e0a0-f1a16db4f6ee"
      },
      "execution_count": 443,
      "outputs": [
        {
          "output_type": "stream",
          "name": "stdout",
          "text": [
            "['Privacy', 'necessary', 'an', 'open', 'society', 'electronic', 'age', '.', 'Privacy', 'not', 'secrecy', '.', 'A', 'private', 'matter', 'something', 'one', \"n't\", 'want', 'the', 'whole', 'world', 'know', ',', 'a', 'secret', 'matter', 'something', 'one', \"n't\", 'want', 'anybody', 'know', '.', 'Privacy', 'the', 'power', 'selectively', 'reveal', 'oneself', 'the', 'world', '.']\n",
            "['privaci', 'necessari', 'an', 'open', 'societi', 'electron', 'age', '.', 'privaci', 'not', 'secreci', '.', 'A', 'privat', 'matter', 'someth', 'one', \"n't\", 'want', 'the', 'whole', 'world', 'know', ',', 'a', 'secret', 'matter', 'someth', 'one', \"n't\", 'want', 'anybodi', 'know', '.', 'privaci', 'the', 'power', 'select', 'reveal', 'oneself', 'the', 'world', '.']\n"
          ]
        }
      ]
    },
    {
      "cell_type": "markdown",
      "source": [
        "8. En partant des mêmes tokens qu'à la question précédentes, réalisez cette fois-ci la lemmatisation. Qu'observez-vous?"
      ],
      "metadata": {
        "id": "25pJ--NTf2pR"
      }
    },
    {
      "cell_type": "code",
      "source": [
        "# Lemmatization\n",
        "lemmatization_tokenized_word = []\n",
        "print(tokenized_word)\n",
        "for word in tokenized_word:\n",
        "  lemmatization_tokenized_word.append(lem.lemmatize(word))\n",
        "print(lemmatization_tokenized_word)\n",
        "\n",
        "# Pour la Lemmatization, nous avons besoin de présicer le type de mot 'verbe, nom, adjectif...etc'\n"
      ],
      "metadata": {
        "id": "HpfP9YfwgAdJ",
        "colab": {
          "base_uri": "https://localhost:8080/"
        },
        "outputId": "ce210d1e-55c9-4106-fdb8-993188a79747"
      },
      "execution_count": 444,
      "outputs": [
        {
          "output_type": "stream",
          "name": "stdout",
          "text": [
            "['Privacy', 'necessary', 'an', 'open', 'society', 'electronic', 'age', '.', 'Privacy', 'not', 'secrecy', '.', 'A', 'private', 'matter', 'something', 'one', \"n't\", 'want', 'the', 'whole', 'world', 'know', ',', 'a', 'secret', 'matter', 'something', 'one', \"n't\", 'want', 'anybody', 'know', '.', 'Privacy', 'the', 'power', 'selectively', 'reveal', 'oneself', 'the', 'world', '.']\n",
            "['Privacy', 'necessary', 'an', 'open', 'society', 'electronic', 'age', '.', 'Privacy', 'not', 'secrecy', '.', 'A', 'private', 'matter', 'something', 'one', \"n't\", 'want', 'the', 'whole', 'world', 'know', ',', 'a', 'secret', 'matter', 'something', 'one', \"n't\", 'want', 'anybody', 'know', '.', 'Privacy', 'the', 'power', 'selectively', 'reveal', 'oneself', 'the', 'world', '.']\n"
          ]
        }
      ]
    },
    {
      "cell_type": "markdown",
      "source": [
        "## Sentiment Analyses\n",
        "Dans cette seconde partie du TP, vous allez utiliser NLTK pour préparer les données et créer une matrice document terme TF-IDF. Vous pourrez alors réaliser une étude de classification basée sur l'analyse de sentiments."
      ],
      "metadata": {
        "id": "IejRrHVAjvPG"
      }
    },
    {
      "cell_type": "code",
      "source": [
        "import pandas as pd\n",
        "\n",
        "from sklearn.feature_extraction.text import TfidfVectorizer\n",
        "from sklearn.model_selection import train_test_split\n",
        "from sklearn.naive_bayes import MultinomialNB\n",
        "from sklearn import metrics\n",
        "\n",
        "import seaborn as sns"
      ],
      "metadata": {
        "id": "IjAxOY5B3qMv"
      },
      "execution_count": 445,
      "outputs": []
    },
    {
      "cell_type": "markdown",
      "source": [
        "Téléchargez les données:"
      ],
      "metadata": {
        "id": "v05ZESY-ltAl"
      }
    },
    {
      "cell_type": "code",
      "source": [
        "# Download reviews dataset \n",
        "!gdown --id 1zdmewp7ayS4js4VtrJEHzAheSW-5NBZv"
      ],
      "metadata": {
        "id": "_AXId4-Kjulo",
        "colab": {
          "base_uri": "https://localhost:8080/"
        },
        "outputId": "9b8056c1-56f7-46f9-8658-3382609ea1c8"
      },
      "execution_count": 446,
      "outputs": [
        {
          "output_type": "stream",
          "name": "stdout",
          "text": [
            "Downloading...\n",
            "From: https://drive.google.com/uc?id=1zdmewp7ayS4js4VtrJEHzAheSW-5NBZv\n",
            "To: /content/reviews.csv\n",
            "\r  0% 0.00/7.17M [00:00<?, ?B/s]\r100% 7.17M/7.17M [00:00<00:00, 179MB/s]\n"
          ]
        }
      ]
    },
    {
      "cell_type": "markdown",
      "source": [
        "9. Créez un dataframe appelé *df* à partir du fichier *reviews.csv*."
      ],
      "metadata": {
        "id": "IGisEN8Tl7sB"
      }
    },
    {
      "cell_type": "code",
      "source": [
        "# Read reviews\n",
        "df = pd.read_csv('reviews.csv')\n",
        "df.head()"
      ],
      "metadata": {
        "id": "wZH6yREOla56",
        "colab": {
          "base_uri": "https://localhost:8080/",
          "height": 687
        },
        "outputId": "b2f3a163-aa70-4758-a307-a0572546b362"
      },
      "execution_count": 447,
      "outputs": [
        {
          "output_type": "execute_result",
          "data": {
            "text/html": [
              "\n",
              "  <div id=\"df-3675a62f-845b-4db5-8a27-ca321e9e43bd\">\n",
              "    <div class=\"colab-df-container\">\n",
              "      <div>\n",
              "<style scoped>\n",
              "    .dataframe tbody tr th:only-of-type {\n",
              "        vertical-align: middle;\n",
              "    }\n",
              "\n",
              "    .dataframe tbody tr th {\n",
              "        vertical-align: top;\n",
              "    }\n",
              "\n",
              "    .dataframe thead th {\n",
              "        text-align: right;\n",
              "    }\n",
              "</style>\n",
              "<table border=\"1\" class=\"dataframe\">\n",
              "  <thead>\n",
              "    <tr style=\"text-align: right;\">\n",
              "      <th></th>\n",
              "      <th>userName</th>\n",
              "      <th>userImage</th>\n",
              "      <th>content</th>\n",
              "      <th>score</th>\n",
              "      <th>thumbsUpCount</th>\n",
              "      <th>reviewCreatedVersion</th>\n",
              "      <th>at</th>\n",
              "      <th>replyContent</th>\n",
              "      <th>repliedAt</th>\n",
              "      <th>sortOrder</th>\n",
              "      <th>appId</th>\n",
              "    </tr>\n",
              "  </thead>\n",
              "  <tbody>\n",
              "    <tr>\n",
              "      <th>0</th>\n",
              "      <td>Andrew Thomas</td>\n",
              "      <td>https://lh3.googleusercontent.com/a-/AOh14GiHd...</td>\n",
              "      <td>Update: After getting a response from the deve...</td>\n",
              "      <td>1</td>\n",
              "      <td>21</td>\n",
              "      <td>4.17.0.3</td>\n",
              "      <td>2020-04-05 22:25:57</td>\n",
              "      <td>According to our TOS, and the term you have ag...</td>\n",
              "      <td>2020-04-05 15:10:24</td>\n",
              "      <td>most_relevant</td>\n",
              "      <td>com.anydo</td>\n",
              "    </tr>\n",
              "    <tr>\n",
              "      <th>1</th>\n",
              "      <td>Craig Haines</td>\n",
              "      <td>https://lh3.googleusercontent.com/-hoe0kwSJgPQ...</td>\n",
              "      <td>Used it for a fair amount of time without any ...</td>\n",
              "      <td>1</td>\n",
              "      <td>11</td>\n",
              "      <td>4.17.0.3</td>\n",
              "      <td>2020-04-04 13:40:01</td>\n",
              "      <td>It sounds like you logged in with a different ...</td>\n",
              "      <td>2020-04-05 15:11:35</td>\n",
              "      <td>most_relevant</td>\n",
              "      <td>com.anydo</td>\n",
              "    </tr>\n",
              "    <tr>\n",
              "      <th>2</th>\n",
              "      <td>steven adkins</td>\n",
              "      <td>https://lh3.googleusercontent.com/a-/AOh14GiXw...</td>\n",
              "      <td>Your app sucks now!!!!! Used to be good but no...</td>\n",
              "      <td>1</td>\n",
              "      <td>17</td>\n",
              "      <td>4.17.0.3</td>\n",
              "      <td>2020-04-01 16:18:13</td>\n",
              "      <td>This sounds odd! We are not aware of any issue...</td>\n",
              "      <td>2020-04-02 16:05:56</td>\n",
              "      <td>most_relevant</td>\n",
              "      <td>com.anydo</td>\n",
              "    </tr>\n",
              "    <tr>\n",
              "      <th>3</th>\n",
              "      <td>Lars Panzerbjørn</td>\n",
              "      <td>https://lh3.googleusercontent.com/a-/AOh14Gg-h...</td>\n",
              "      <td>It seems OK, but very basic. Recurring tasks n...</td>\n",
              "      <td>1</td>\n",
              "      <td>192</td>\n",
              "      <td>4.17.0.2</td>\n",
              "      <td>2020-03-12 08:17:34</td>\n",
              "      <td>We do offer this option as part of the Advance...</td>\n",
              "      <td>2020-03-15 06:20:13</td>\n",
              "      <td>most_relevant</td>\n",
              "      <td>com.anydo</td>\n",
              "    </tr>\n",
              "    <tr>\n",
              "      <th>4</th>\n",
              "      <td>Scott Prewitt</td>\n",
              "      <td>https://lh3.googleusercontent.com/-K-X1-YsVd6U...</td>\n",
              "      <td>Absolutely worthless. This app runs a prohibit...</td>\n",
              "      <td>1</td>\n",
              "      <td>42</td>\n",
              "      <td>4.17.0.2</td>\n",
              "      <td>2020-03-14 17:41:01</td>\n",
              "      <td>We're sorry you feel this way! 90% of the app ...</td>\n",
              "      <td>2020-03-15 23:45:51</td>\n",
              "      <td>most_relevant</td>\n",
              "      <td>com.anydo</td>\n",
              "    </tr>\n",
              "  </tbody>\n",
              "</table>\n",
              "</div>\n",
              "      <button class=\"colab-df-convert\" onclick=\"convertToInteractive('df-3675a62f-845b-4db5-8a27-ca321e9e43bd')\"\n",
              "              title=\"Convert this dataframe to an interactive table.\"\n",
              "              style=\"display:none;\">\n",
              "        \n",
              "  <svg xmlns=\"http://www.w3.org/2000/svg\" height=\"24px\"viewBox=\"0 0 24 24\"\n",
              "       width=\"24px\">\n",
              "    <path d=\"M0 0h24v24H0V0z\" fill=\"none\"/>\n",
              "    <path d=\"M18.56 5.44l.94 2.06.94-2.06 2.06-.94-2.06-.94-.94-2.06-.94 2.06-2.06.94zm-11 1L8.5 8.5l.94-2.06 2.06-.94-2.06-.94L8.5 2.5l-.94 2.06-2.06.94zm10 10l.94 2.06.94-2.06 2.06-.94-2.06-.94-.94-2.06-.94 2.06-2.06.94z\"/><path d=\"M17.41 7.96l-1.37-1.37c-.4-.4-.92-.59-1.43-.59-.52 0-1.04.2-1.43.59L10.3 9.45l-7.72 7.72c-.78.78-.78 2.05 0 2.83L4 21.41c.39.39.9.59 1.41.59.51 0 1.02-.2 1.41-.59l7.78-7.78 2.81-2.81c.8-.78.8-2.07 0-2.86zM5.41 20L4 18.59l7.72-7.72 1.47 1.35L5.41 20z\"/>\n",
              "  </svg>\n",
              "      </button>\n",
              "      \n",
              "  <style>\n",
              "    .colab-df-container {\n",
              "      display:flex;\n",
              "      flex-wrap:wrap;\n",
              "      gap: 12px;\n",
              "    }\n",
              "\n",
              "    .colab-df-convert {\n",
              "      background-color: #E8F0FE;\n",
              "      border: none;\n",
              "      border-radius: 50%;\n",
              "      cursor: pointer;\n",
              "      display: none;\n",
              "      fill: #1967D2;\n",
              "      height: 32px;\n",
              "      padding: 0 0 0 0;\n",
              "      width: 32px;\n",
              "    }\n",
              "\n",
              "    .colab-df-convert:hover {\n",
              "      background-color: #E2EBFA;\n",
              "      box-shadow: 0px 1px 2px rgba(60, 64, 67, 0.3), 0px 1px 3px 1px rgba(60, 64, 67, 0.15);\n",
              "      fill: #174EA6;\n",
              "    }\n",
              "\n",
              "    [theme=dark] .colab-df-convert {\n",
              "      background-color: #3B4455;\n",
              "      fill: #D2E3FC;\n",
              "    }\n",
              "\n",
              "    [theme=dark] .colab-df-convert:hover {\n",
              "      background-color: #434B5C;\n",
              "      box-shadow: 0px 1px 3px 1px rgba(0, 0, 0, 0.15);\n",
              "      filter: drop-shadow(0px 1px 2px rgba(0, 0, 0, 0.3));\n",
              "      fill: #FFFFFF;\n",
              "    }\n",
              "  </style>\n",
              "\n",
              "      <script>\n",
              "        const buttonEl =\n",
              "          document.querySelector('#df-3675a62f-845b-4db5-8a27-ca321e9e43bd button.colab-df-convert');\n",
              "        buttonEl.style.display =\n",
              "          google.colab.kernel.accessAllowed ? 'block' : 'none';\n",
              "\n",
              "        async function convertToInteractive(key) {\n",
              "          const element = document.querySelector('#df-3675a62f-845b-4db5-8a27-ca321e9e43bd');\n",
              "          const dataTable =\n",
              "            await google.colab.kernel.invokeFunction('convertToInteractive',\n",
              "                                                     [key], {});\n",
              "          if (!dataTable) return;\n",
              "\n",
              "          const docLinkHtml = 'Like what you see? Visit the ' +\n",
              "            '<a target=\"_blank\" href=https://colab.research.google.com/notebooks/data_table.ipynb>data table notebook</a>'\n",
              "            + ' to learn more about interactive tables.';\n",
              "          element.innerHTML = '';\n",
              "          dataTable['output_type'] = 'display_data';\n",
              "          await google.colab.output.renderOutput(dataTable, element);\n",
              "          const docLink = document.createElement('div');\n",
              "          docLink.innerHTML = docLinkHtml;\n",
              "          element.appendChild(docLink);\n",
              "        }\n",
              "      </script>\n",
              "    </div>\n",
              "  </div>\n",
              "  "
            ],
            "text/plain": [
              "           userName                                          userImage  \\\n",
              "0     Andrew Thomas  https://lh3.googleusercontent.com/a-/AOh14GiHd...   \n",
              "1      Craig Haines  https://lh3.googleusercontent.com/-hoe0kwSJgPQ...   \n",
              "2     steven adkins  https://lh3.googleusercontent.com/a-/AOh14GiXw...   \n",
              "3  Lars Panzerbjørn  https://lh3.googleusercontent.com/a-/AOh14Gg-h...   \n",
              "4     Scott Prewitt  https://lh3.googleusercontent.com/-K-X1-YsVd6U...   \n",
              "\n",
              "                                             content  score  thumbsUpCount  \\\n",
              "0  Update: After getting a response from the deve...      1             21   \n",
              "1  Used it for a fair amount of time without any ...      1             11   \n",
              "2  Your app sucks now!!!!! Used to be good but no...      1             17   \n",
              "3  It seems OK, but very basic. Recurring tasks n...      1            192   \n",
              "4  Absolutely worthless. This app runs a prohibit...      1             42   \n",
              "\n",
              "  reviewCreatedVersion                   at  \\\n",
              "0             4.17.0.3  2020-04-05 22:25:57   \n",
              "1             4.17.0.3  2020-04-04 13:40:01   \n",
              "2             4.17.0.3  2020-04-01 16:18:13   \n",
              "3             4.17.0.2  2020-03-12 08:17:34   \n",
              "4             4.17.0.2  2020-03-14 17:41:01   \n",
              "\n",
              "                                        replyContent            repliedAt  \\\n",
              "0  According to our TOS, and the term you have ag...  2020-04-05 15:10:24   \n",
              "1  It sounds like you logged in with a different ...  2020-04-05 15:11:35   \n",
              "2  This sounds odd! We are not aware of any issue...  2020-04-02 16:05:56   \n",
              "3  We do offer this option as part of the Advance...  2020-03-15 06:20:13   \n",
              "4  We're sorry you feel this way! 90% of the app ...  2020-03-15 23:45:51   \n",
              "\n",
              "       sortOrder      appId  \n",
              "0  most_relevant  com.anydo  \n",
              "1  most_relevant  com.anydo  \n",
              "2  most_relevant  com.anydo  \n",
              "3  most_relevant  com.anydo  \n",
              "4  most_relevant  com.anydo  "
            ]
          },
          "metadata": {},
          "execution_count": 447
        }
      ]
    },
    {
      "cell_type": "markdown",
      "source": [
        "10.1. Séléctionnez uniquement les colonnes 'content' et 'score'. Affichez quelques lignes du dataframe."
      ],
      "metadata": {
        "id": "rstpUClFmA5F"
      }
    },
    {
      "cell_type": "code",
      "source": [
        "# Select only relevant columns\n",
        "mycolumns = ['content','score']\n",
        "content_score = df[mycolumns]\n",
        "content_score"
      ],
      "metadata": {
        "id": "pp-e9uC8lzS0",
        "colab": {
          "base_uri": "https://localhost:8080/",
          "height": 423
        },
        "outputId": "77494ea9-627f-4e04-c7b6-0368fe975019"
      },
      "execution_count": 448,
      "outputs": [
        {
          "output_type": "execute_result",
          "data": {
            "text/html": [
              "\n",
              "  <div id=\"df-88dfeb35-419d-482f-bccf-d768f3e3876c\">\n",
              "    <div class=\"colab-df-container\">\n",
              "      <div>\n",
              "<style scoped>\n",
              "    .dataframe tbody tr th:only-of-type {\n",
              "        vertical-align: middle;\n",
              "    }\n",
              "\n",
              "    .dataframe tbody tr th {\n",
              "        vertical-align: top;\n",
              "    }\n",
              "\n",
              "    .dataframe thead th {\n",
              "        text-align: right;\n",
              "    }\n",
              "</style>\n",
              "<table border=\"1\" class=\"dataframe\">\n",
              "  <thead>\n",
              "    <tr style=\"text-align: right;\">\n",
              "      <th></th>\n",
              "      <th>content</th>\n",
              "      <th>score</th>\n",
              "    </tr>\n",
              "  </thead>\n",
              "  <tbody>\n",
              "    <tr>\n",
              "      <th>0</th>\n",
              "      <td>Update: After getting a response from the deve...</td>\n",
              "      <td>1</td>\n",
              "    </tr>\n",
              "    <tr>\n",
              "      <th>1</th>\n",
              "      <td>Used it for a fair amount of time without any ...</td>\n",
              "      <td>1</td>\n",
              "    </tr>\n",
              "    <tr>\n",
              "      <th>2</th>\n",
              "      <td>Your app sucks now!!!!! Used to be good but no...</td>\n",
              "      <td>1</td>\n",
              "    </tr>\n",
              "    <tr>\n",
              "      <th>3</th>\n",
              "      <td>It seems OK, but very basic. Recurring tasks n...</td>\n",
              "      <td>1</td>\n",
              "    </tr>\n",
              "    <tr>\n",
              "      <th>4</th>\n",
              "      <td>Absolutely worthless. This app runs a prohibit...</td>\n",
              "      <td>1</td>\n",
              "    </tr>\n",
              "    <tr>\n",
              "      <th>...</th>\n",
              "      <td>...</td>\n",
              "      <td>...</td>\n",
              "    </tr>\n",
              "    <tr>\n",
              "      <th>15741</th>\n",
              "      <td>I believe that this is by far the best app wit...</td>\n",
              "      <td>5</td>\n",
              "    </tr>\n",
              "    <tr>\n",
              "      <th>15742</th>\n",
              "      <td>It sometimes crashes a lot!!</td>\n",
              "      <td>5</td>\n",
              "    </tr>\n",
              "    <tr>\n",
              "      <th>15743</th>\n",
              "      <td>Works well for what I need</td>\n",
              "      <td>5</td>\n",
              "    </tr>\n",
              "    <tr>\n",
              "      <th>15744</th>\n",
              "      <td>Love it.</td>\n",
              "      <td>5</td>\n",
              "    </tr>\n",
              "    <tr>\n",
              "      <th>15745</th>\n",
              "      <td>Really amazing and helped me sooo much just i ...</td>\n",
              "      <td>5</td>\n",
              "    </tr>\n",
              "  </tbody>\n",
              "</table>\n",
              "<p>15746 rows × 2 columns</p>\n",
              "</div>\n",
              "      <button class=\"colab-df-convert\" onclick=\"convertToInteractive('df-88dfeb35-419d-482f-bccf-d768f3e3876c')\"\n",
              "              title=\"Convert this dataframe to an interactive table.\"\n",
              "              style=\"display:none;\">\n",
              "        \n",
              "  <svg xmlns=\"http://www.w3.org/2000/svg\" height=\"24px\"viewBox=\"0 0 24 24\"\n",
              "       width=\"24px\">\n",
              "    <path d=\"M0 0h24v24H0V0z\" fill=\"none\"/>\n",
              "    <path d=\"M18.56 5.44l.94 2.06.94-2.06 2.06-.94-2.06-.94-.94-2.06-.94 2.06-2.06.94zm-11 1L8.5 8.5l.94-2.06 2.06-.94-2.06-.94L8.5 2.5l-.94 2.06-2.06.94zm10 10l.94 2.06.94-2.06 2.06-.94-2.06-.94-.94-2.06-.94 2.06-2.06.94z\"/><path d=\"M17.41 7.96l-1.37-1.37c-.4-.4-.92-.59-1.43-.59-.52 0-1.04.2-1.43.59L10.3 9.45l-7.72 7.72c-.78.78-.78 2.05 0 2.83L4 21.41c.39.39.9.59 1.41.59.51 0 1.02-.2 1.41-.59l7.78-7.78 2.81-2.81c.8-.78.8-2.07 0-2.86zM5.41 20L4 18.59l7.72-7.72 1.47 1.35L5.41 20z\"/>\n",
              "  </svg>\n",
              "      </button>\n",
              "      \n",
              "  <style>\n",
              "    .colab-df-container {\n",
              "      display:flex;\n",
              "      flex-wrap:wrap;\n",
              "      gap: 12px;\n",
              "    }\n",
              "\n",
              "    .colab-df-convert {\n",
              "      background-color: #E8F0FE;\n",
              "      border: none;\n",
              "      border-radius: 50%;\n",
              "      cursor: pointer;\n",
              "      display: none;\n",
              "      fill: #1967D2;\n",
              "      height: 32px;\n",
              "      padding: 0 0 0 0;\n",
              "      width: 32px;\n",
              "    }\n",
              "\n",
              "    .colab-df-convert:hover {\n",
              "      background-color: #E2EBFA;\n",
              "      box-shadow: 0px 1px 2px rgba(60, 64, 67, 0.3), 0px 1px 3px 1px rgba(60, 64, 67, 0.15);\n",
              "      fill: #174EA6;\n",
              "    }\n",
              "\n",
              "    [theme=dark] .colab-df-convert {\n",
              "      background-color: #3B4455;\n",
              "      fill: #D2E3FC;\n",
              "    }\n",
              "\n",
              "    [theme=dark] .colab-df-convert:hover {\n",
              "      background-color: #434B5C;\n",
              "      box-shadow: 0px 1px 3px 1px rgba(0, 0, 0, 0.15);\n",
              "      filter: drop-shadow(0px 1px 2px rgba(0, 0, 0, 0.3));\n",
              "      fill: #FFFFFF;\n",
              "    }\n",
              "  </style>\n",
              "\n",
              "      <script>\n",
              "        const buttonEl =\n",
              "          document.querySelector('#df-88dfeb35-419d-482f-bccf-d768f3e3876c button.colab-df-convert');\n",
              "        buttonEl.style.display =\n",
              "          google.colab.kernel.accessAllowed ? 'block' : 'none';\n",
              "\n",
              "        async function convertToInteractive(key) {\n",
              "          const element = document.querySelector('#df-88dfeb35-419d-482f-bccf-d768f3e3876c');\n",
              "          const dataTable =\n",
              "            await google.colab.kernel.invokeFunction('convertToInteractive',\n",
              "                                                     [key], {});\n",
              "          if (!dataTable) return;\n",
              "\n",
              "          const docLinkHtml = 'Like what you see? Visit the ' +\n",
              "            '<a target=\"_blank\" href=https://colab.research.google.com/notebooks/data_table.ipynb>data table notebook</a>'\n",
              "            + ' to learn more about interactive tables.';\n",
              "          element.innerHTML = '';\n",
              "          dataTable['output_type'] = 'display_data';\n",
              "          await google.colab.output.renderOutput(dataTable, element);\n",
              "          const docLink = document.createElement('div');\n",
              "          docLink.innerHTML = docLinkHtml;\n",
              "          element.appendChild(docLink);\n",
              "        }\n",
              "      </script>\n",
              "    </div>\n",
              "  </div>\n",
              "  "
            ],
            "text/plain": [
              "                                                 content  score\n",
              "0      Update: After getting a response from the deve...      1\n",
              "1      Used it for a fair amount of time without any ...      1\n",
              "2      Your app sucks now!!!!! Used to be good but no...      1\n",
              "3      It seems OK, but very basic. Recurring tasks n...      1\n",
              "4      Absolutely worthless. This app runs a prohibit...      1\n",
              "...                                                  ...    ...\n",
              "15741  I believe that this is by far the best app wit...      5\n",
              "15742                       It sometimes crashes a lot!!      5\n",
              "15743                         Works well for what I need      5\n",
              "15744                                           Love it.      5\n",
              "15745  Really amazing and helped me sooo much just i ...      5\n",
              "\n",
              "[15746 rows x 2 columns]"
            ]
          },
          "metadata": {},
          "execution_count": 448
        }
      ]
    },
    {
      "cell_type": "markdown",
      "source": [
        "10.2. Tracez la distribution de la variable score en utilisant la fonction **countplot()**  de Seaborn"
      ],
      "metadata": {
        "id": "AjxLC_x47UTR"
      }
    },
    {
      "cell_type": "code",
      "source": [
        "# Countplot\n",
        "sns.set_theme(style=\"darkgrid\")\n",
        "ax = sns.countplot(x=\"score\", data=content_score)"
      ],
      "metadata": {
        "id": "IK3Yz0xt_wkM",
        "colab": {
          "base_uri": "https://localhost:8080/",
          "height": 285
        },
        "outputId": "be521609-d396-4623-a8c9-52ef7a5e95ef"
      },
      "execution_count": 449,
      "outputs": [
        {
          "output_type": "display_data",
          "data": {
            "image/png": "[encoded data removed]",
            "text/plain": [
              "<Figure size 432x288 with 1 Axes>"
            ]
          },
          "metadata": {}
        }
      ]
    },
    {
      "cell_type": "markdown",
      "source": [
        "**Note:** en regardant la distribution des scores, on voit que les classes sont déséquilibrées. On décide de garder les données ainsi pour l'instant, le but du TP étant autre. Mais ce n'est pas la manière optimale de traiter ce type de problème. Nous devrions à minima faire de l'undersampling."
      ],
      "metadata": {
        "id": "hQlWAXZi_xl8"
      }
    },
    {
      "cell_type": "markdown",
      "source": [
        "### TF-IDF"
      ],
      "metadata": {
        "id": "hBHfL2Cy4gzR"
      }
    },
    {
      "cell_type": "markdown",
      "source": [
        "11. Utilisez la fonction **[TfidfVectorizer](https://scikit-learn.org/stable/modules/generated/sklearn.feature_extraction.text.TfidfVectorizer.html)** puis **fit_transform()** pour créer la matrice document terme TF-IDF associée à la colonne 'content'."
      ],
      "metadata": {
        "id": "ArGQm9gu3blq"
      }
    },
    {
      "cell_type": "code",
      "source": [
        "# Create the TF-IDF matrix\n",
        "vectorizer = TfidfVectorizer()\n",
        "TF_IDF = vectorizer.fit_transform(df['content'])\n",
        "TF_IDF.shape"
      ],
      "metadata": {
        "id": "7KF5HRL-l5kC",
        "colab": {
          "base_uri": "https://localhost:8080/"
        },
        "outputId": "9fa2519a-111b-4219-fee4-9ccb80a541f7"
      },
      "execution_count": 450,
      "outputs": [
        {
          "output_type": "execute_result",
          "data": {
            "text/plain": [
              "(15746, 11242)"
            ]
          },
          "metadata": {},
          "execution_count": 450
        }
      ]
    },
    {
      "cell_type": "markdown",
      "source": [
        "12. Découpez le dataframe en trainset et testset: 70/30%. **Tips:** utilisez la fonction [train_test_split](https://scikit-learn.org/stable/modules/generated/sklearn.model_selection.train_test_split.html)."
      ],
      "metadata": {
        "id": "7GichiHb33Rl"
      }
    },
    {
      "cell_type": "code",
      "source": [
        "# Train / Test split with random_state = 42\n",
        "X_train, X_test, y_train, y_test = train_test_split(TF_IDF, df['score'],  test_size=0.30, random_state=42)"
      ],
      "metadata": {
        "id": "OazyLYEcmdBo"
      },
      "execution_count": 451,
      "outputs": []
    },
    {
      "cell_type": "markdown",
      "source": [
        "13. Utilisez le modèle **[MultinomialNB](https://scikit-learn.org/stable/modules/generated/sklearn.naive_bayes.MultinomialNB.html)** pour classer les phrases.\n",
        "Entraînez ce classifier Bayésien **.fit()** et faites la prédiction **.predict()** sur le jeu de test. Vous pouvez obtenir l'accuracy du modèle avec la fonction: [metrics.accuracy_score](https://scikit-learn.org/stable/modules/generated/sklearn.metrics.accuracy_score.html)"
      ],
      "metadata": {
        "id": "ZBOuFoC44BSe"
      }
    },
    {
      "cell_type": "code",
      "source": [
        "# Model Generation Using Multinomial Naive Bayes\n",
        "clf = MultinomialNB()\n",
        "clf.fit(X_train, y_train)\n",
        "\n",
        "pred = clf.predict(X_test)\n",
        "accuracy_score(y_test, pred)"
      ],
      "metadata": {
        "id": "2e1oULG0mlJX",
        "colab": {
          "base_uri": "https://localhost:8080/"
        },
        "outputId": "4f93d3ca-6297-4eb7-f5a2-a726fef8171e"
      },
      "execution_count": 452,
      "outputs": [
        {
          "output_type": "execute_result",
          "data": {
            "text/plain": [
              "0.41045723962743436"
            ]
          },
          "metadata": {},
          "execution_count": 452
        }
      ]
    },
    {
      "cell_type": "markdown",
      "source": [
        "### TF-IDF with stemming\n",
        "14. Vous allez refaire la même étude mais cette fois-ci en supprimant les stopwords. Vous obtiendrez une nouvelle collection de mots sur lesquels vous réaliserez du stemming. Enfin, réentraîner un classifier bayésien. **Tips:** utilisez les boucles que vous avez utilisés précédemment pour préparer le texte.\n",
        "\n",
        " Est-ce que l'accuracy est meilleure ?"
      ],
      "metadata": {
        "id": "gurLUcOD4aHD"
      }
    },
    {
      "cell_type": "code",
      "source": [
        "# Tokenization\n",
        "print('Avant traitement ')\n",
        "print(content_score)\n",
        "print('Après traitement ')\n",
        "for i in range(0,len(content_score['content'])) :\n",
        "  tokenized_phrase = word_tokenize(content_score['content'][i])\n",
        "\n",
        "  # Delete stopwords\n",
        "  delete_stop_words(tokenized_phrase)\n",
        "  \n",
        "  # Stemming\n",
        "  for j in range(0,len(tokenized_phrase)):\n",
        "    tokenized_phrase[j] = ps.stem(tokenized_phrase[j])\n",
        "\n",
        "  # Recreate the sentence\n",
        "  phrase = \" \".join(tokenized_phrase)\n",
        "  content_score['content'][i] = phrase\n",
        "\n",
        "print(content_score)"
      ],
      "metadata": {
        "id": "QhApU66WqKdK",
        "colab": {
          "base_uri": "https://localhost:8080/"
        },
        "outputId": "5f4d7b18-b5f4-40d7-b0f5-262fc831c171"
      },
      "execution_count": 453,
      "outputs": [
        {
          "output_type": "stream",
          "name": "stdout",
          "text": [
            "Avant traitement \n",
            "                                                 content  score\n",
            "0      Update: After getting a response from the deve...      1\n",
            "1      Used it for a fair amount of time without any ...      1\n",
            "2      Your app sucks now!!!!! Used to be good but no...      1\n",
            "3      It seems OK, but very basic. Recurring tasks n...      1\n",
            "4      Absolutely worthless. This app runs a prohibit...      1\n",
            "...                                                  ...    ...\n",
            "15741  I believe that this is by far the best app wit...      5\n",
            "15742                       It sometimes crashes a lot!!      5\n",
            "15743                         Works well for what I need      5\n",
            "15744                                           Love it.      5\n",
            "15745  Really amazing and helped me sooo much just i ...      5\n",
            "\n",
            "[15746 rows x 2 columns]\n",
            "Après traitement \n"
          ]
        },
        {
          "output_type": "stream",
          "name": "stderr",
          "text": [
            "/usr/local/lib/python3.7/dist-packages/ipykernel_launcher.py:17: SettingWithCopyWarning: \n",
            "A value is trying to be set on a copy of a slice from a DataFrame\n",
            "\n",
            "See the caveats in the documentation: https://pandas.pydata.org/pandas-docs/stable/user_guide/indexing.html#returning-a-view-versus-a-copy\n"
          ]
        },
        {
          "output_type": "stream",
          "name": "stdout",
          "text": [
            "                                                 content  score\n",
            "0      updat : after get respons the develop I would ...      1\n",
            "1      use for fair amount time without problem . sud...      1\n",
            "2      your app suck ! ! ! ! ! use be good now n't up...      1\n",
            "3      It seem OK , veri basic . recur task need work...      1\n",
            "4      absolut worthless . thi app run prohibit clunk...      1\n",
            "...                                                  ...    ...\n",
            "15741  I believ thi by far best app help ppl keep tra...      5\n",
            "15742                           It sometim crash lot ! !      5\n",
            "15743                              work well what I need      5\n",
            "15744                                             love .      5\n",
            "15745  realli amaz help sooo much i hope it be sharab...      5\n",
            "\n",
            "[15746 rows x 2 columns]\n"
          ]
        }
      ]
    },
    {
      "cell_type": "code",
      "source": [
        "# Create the TF-IDF matrix\n",
        "\n",
        "vectorizer = TfidfVectorizer()\n",
        "TF_IDF = vectorizer.fit_transform(content_score['content'])\n",
        "TF_IDF.shape"
      ],
      "metadata": {
        "id": "_U27vaVRu_pG",
        "colab": {
          "base_uri": "https://localhost:8080/"
        },
        "outputId": "7136b547-fb50-4d4b-ac11-0ed287078f9b"
      },
      "execution_count": 454,
      "outputs": [
        {
          "output_type": "execute_result",
          "data": {
            "text/plain": [
              "(15746, 8367)"
            ]
          },
          "metadata": {},
          "execution_count": 454
        }
      ]
    },
    {
      "cell_type": "code",
      "source": [
        "# Train / Test split with the same random_state\n",
        "X_train, X_test, y_train, y_test = train_test_split(TF_IDF, content_score['score'],  test_size=0.30, random_state=42)"
      ],
      "metadata": {
        "id": "qXtFvWGEv0UK"
      },
      "execution_count": 455,
      "outputs": []
    },
    {
      "cell_type": "code",
      "source": [
        "# Model Generation Using Multinomial Naive Bayes\n",
        "clf = MultinomialNB()\n",
        "clf.fit(X_train, y_train)\n",
        "\n",
        "pred = clf.predict(X_test)\n",
        "accuracy_score(y_test, pred)"
      ],
      "metadata": {
        "id": "b7fh1HUz5FGJ",
        "colab": {
          "base_uri": "https://localhost:8080/"
        },
        "outputId": "3f81c1d9-b0d2-48b1-8849-bd6b0a6b8072"
      },
      "execution_count": 456,
      "outputs": [
        {
          "output_type": "execute_result",
          "data": {
            "text/plain": [
              "0.41998306519898393"
            ]
          },
          "metadata": {},
          "execution_count": 456
        }
      ]
    },
    {
      "cell_type": "markdown",
      "source": [
        "### TF-IDF with discretization\n",
        "15. Discrétisez les valeurs de *score* comme suit:  \n",
        "- [1,2] => 0\n",
        "- [3]    => 1\n",
        "- [4,5] => 2\n",
        "\n",
        "Le score de 0 correspond alors a un avis négatif, 1 a un avis neutre et 2 a un avis positif.\n"
      ],
      "metadata": {
        "id": "crrWzl7s50tf"
      }
    },
    {
      "cell_type": "code",
      "source": [
        "content_score_final = content_score\n",
        "\n",
        "print(content_score['score'])\n",
        "for i in range (0, len(content_score_final['score'])):\n",
        "  if content_score_final['score'][i] in[1,2]:\n",
        "    content_score_final['score'][i] = 0\n",
        "  if content_score_final['score'][i] == 3:\n",
        "    content_score_final['score'][i] = 1\n",
        "  if content_score_final['score'][i] in [4,5]:\n",
        "    content_score_final['score'][i] = 2\n",
        "\n",
        "content_score_final['score']"
      ],
      "metadata": {
        "id": "P_k5ApkYBdZt",
        "colab": {
          "base_uri": "https://localhost:8080/"
        },
        "outputId": "ac6b2d56-8552-4c12-8ef9-d5346d97b93d"
      },
      "execution_count": 457,
      "outputs": [
        {
          "output_type": "stream",
          "name": "stdout",
          "text": [
            "0        1\n",
            "1        1\n",
            "2        1\n",
            "3        1\n",
            "4        1\n",
            "        ..\n",
            "15741    5\n",
            "15742    5\n",
            "15743    5\n",
            "15744    5\n",
            "15745    5\n",
            "Name: score, Length: 15746, dtype: int64\n"
          ]
        },
        {
          "output_type": "stream",
          "name": "stderr",
          "text": [
            "/usr/local/lib/python3.7/dist-packages/ipykernel_launcher.py:6: SettingWithCopyWarning: \n",
            "A value is trying to be set on a copy of a slice from a DataFrame\n",
            "\n",
            "See the caveats in the documentation: https://pandas.pydata.org/pandas-docs/stable/user_guide/indexing.html#returning-a-view-versus-a-copy\n",
            "  \n",
            "/usr/local/lib/python3.7/dist-packages/ipykernel_launcher.py:8: SettingWithCopyWarning: \n",
            "A value is trying to be set on a copy of a slice from a DataFrame\n",
            "\n",
            "See the caveats in the documentation: https://pandas.pydata.org/pandas-docs/stable/user_guide/indexing.html#returning-a-view-versus-a-copy\n",
            "  \n",
            "/usr/local/lib/python3.7/dist-packages/ipykernel_launcher.py:10: SettingWithCopyWarning: \n",
            "A value is trying to be set on a copy of a slice from a DataFrame\n",
            "\n",
            "See the caveats in the documentation: https://pandas.pydata.org/pandas-docs/stable/user_guide/indexing.html#returning-a-view-versus-a-copy\n",
            "  # Remove the CWD from sys.path while we load stuff.\n"
          ]
        },
        {
          "output_type": "execute_result",
          "data": {
            "text/plain": [
              "0        0\n",
              "1        0\n",
              "2        0\n",
              "3        0\n",
              "4        0\n",
              "        ..\n",
              "15741    2\n",
              "15742    2\n",
              "15743    2\n",
              "15744    2\n",
              "15745    2\n",
              "Name: score, Length: 15746, dtype: int64"
            ]
          },
          "metadata": {},
          "execution_count": 457
        }
      ]
    },
    {
      "cell_type": "markdown",
      "source": [
        "16. Tracer la distribution de cette nouvelle distribution de la variable *score*. Utilisez la librairie Seaborn et la fonction **countplot()**."
      ],
      "metadata": {
        "id": "LIf276DTwasd"
      }
    },
    {
      "cell_type": "code",
      "source": [
        "# Plot\n",
        "sns.set_theme(style=\"darkgrid\")\n",
        "ax = sns.countplot(x=\"score\", data=content_score_final)"
      ],
      "metadata": {
        "colab": {
          "base_uri": "https://localhost:8080/",
          "height": 285
        },
        "id": "okbVky5FwVrA",
        "outputId": "16d2c145-a262-4d57-fb62-f59ad67e9a8b"
      },
      "execution_count": 458,
      "outputs": [
        {
          "output_type": "display_data",
          "data": {
            "image/png": "[encoded data removed]",
            "text/plain": [
              "<Figure size 432x288 with 1 Axes>"
            ]
          },
          "metadata": {}
        }
      ]
    },
    {
      "cell_type": "markdown",
      "source": [
        "La distribution n'est toujours pas totalement équilibrée mais cela reste plus raisonnable."
      ],
      "metadata": {
        "id": "vIT8TN1pB309"
      }
    },
    {
      "cell_type": "markdown",
      "source": [
        "17. En réalisant les mêmes étapes qu'à la question 14, réalisez une nouvelle classification avec la nouvelle variable *score* discrétisée.  \n",
        "Quelle est la nouvelle accuracy ? "
      ],
      "metadata": {
        "id": "z4e2qYi0wE7Z"
      }
    },
    {
      "cell_type": "code",
      "source": [
        "vectorizer = TfidfVectorizer()\n",
        "TF_IDF = vectorizer.fit_transform(content_score['content'])\n",
        "TF_IDF.shape\n",
        "\n",
        "X_train, X_test, y_train, y_test = train_test_split(TF_IDF, content_score['score'],  test_size=0.30, random_state=42)\n",
        "\n",
        "# Model Generation Using Multinomial Naive Bayes\n",
        "clf = MultinomialNB()\n",
        "clf.fit(X_train, y_train)\n",
        "\n",
        "pred = clf.predict(X_test)\n",
        "accuracy_score(y_test, pred)"
      ],
      "metadata": {
        "id": "mj9P5Erq3d7_",
        "colab": {
          "base_uri": "https://localhost:8080/"
        },
        "outputId": "a23d300b-4a15-43e4-a193-fab9c6d251c7"
      },
      "execution_count": 459,
      "outputs": [
        {
          "output_type": "execute_result",
          "data": {
            "text/plain": [
              "0.6598221845893311"
            ]
          },
          "metadata": {},
          "execution_count": 459
        }
      ]
    }
  ]
}