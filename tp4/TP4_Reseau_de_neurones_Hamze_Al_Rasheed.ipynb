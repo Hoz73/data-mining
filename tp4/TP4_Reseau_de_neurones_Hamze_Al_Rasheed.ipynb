{
  "nbformat": 4,
  "nbformat_minor": 0,
  "metadata": {
    "colab": {
      "name": "TP4_Reseau_de_neurones_Hamze_Al_Rasheed.ipynb",
      "provenance": [],
      "collapsed_sections": []
    },
    "kernelspec": {
      "name": "python3",
      "display_name": "Python 3"
    },
    "language_info": {
      "name": "python"
    }
  },
  "cells": [
    {
      "cell_type": "markdown",
      "source": [
        "# TP4: Introduction aux réseaux de neurones\n",
        "Pour ce TP, nous allons utiliser la librairie PyTorch."
      ],
      "metadata": {
        "id": "-xParNstTmHV"
      }
    },
    {
      "cell_type": "markdown",
      "source": [
        "---\n",
        "Le code qui suit est une fonction qui ne sert qu'à dessiner les réseaux de neurones. **Vous n'avez pas besoin d'en prendre connaissance**. Il faut run la cellule puis passer directement à la partie **Tensors**"
      ],
      "metadata": {
        "id": "51LOgiV-Dmvv"
      }
    },
    {
      "cell_type": "code",
      "source": [
        "# Heavily based on https://github.com/Prodicode/ann-visualizer\n",
        "\n",
        "def ann_viz(model, view=True, filename=\"network.gv\"):\n",
        "    \"\"\"Vizualizez a Sequential model.\n",
        "\n",
        "    # Arguments\n",
        "        model: A Keras model instance.\n",
        "\n",
        "        view: whether to display the model after generation.\n",
        "\n",
        "        filename: where to save the vizualization. (a .gv file)\n",
        "\n",
        "        title: A title for the graph\n",
        "    \"\"\"\n",
        "    from graphviz import Digraph\n",
        "\n",
        "    input_layer = 0\n",
        "    hidden_layers_nr = 0\n",
        "    layer_types = []\n",
        "    hidden_layers = []\n",
        "    output_layer = 0\n",
        "    layers = [layer for layer in model.modules() if type(layer) == torch.nn.Linear]\n",
        "\n",
        "    for layer in layers:\n",
        "        if layer == layers[0]:\n",
        "            input_layer = layer.in_features\n",
        "            hidden_layers_nr += 1\n",
        "            if type(layer) == torch.nn.Linear:                \n",
        "                hidden_layers.append(layer.out_features)\n",
        "                layer_types.append(\"Dense\")\n",
        "            else:\n",
        "                raise Exception(\"Input error\")\n",
        "\n",
        "        else:\n",
        "            if layer == layers[-1]:\n",
        "                output_layer = layer.out_features\n",
        "            else:\n",
        "                hidden_layers_nr += 1\n",
        "                if type(layer) == torch.nn.Linear:\n",
        "\n",
        "                    hidden_layers.append(layer.out_features)\n",
        "                    layer_types.append(\"Dense\")\n",
        "                else:\n",
        "                    raise Exception(\"Hidden error\")\n",
        "        last_layer_nodes = input_layer\n",
        "        nodes_up = input_layer\n",
        "\n",
        "    g = Digraph(\"g\", filename=filename)\n",
        "    n = 0\n",
        "    g.graph_attr.update(splines=\"false\", nodesep=\"0.5\", ranksep=\"0\", rankdir='LR')\n",
        "    # Input Layer\n",
        "    with g.subgraph(name=\"cluster_input\") as c:\n",
        "        if type(layers[0]) == torch.nn.Linear:\n",
        "            the_label = \"Input Layer\"\n",
        "            if layers[0].in_features > 10:\n",
        "                the_label += \" (+\" + str(layers[0].in_features - 10) + \")\"\n",
        "                input_layer = 10\n",
        "            c.attr(color=\"white\")\n",
        "            for i in range(0, input_layer):\n",
        "                n += 1\n",
        "                c.node(str(n))\n",
        "                c.attr(labeljust=\"1\")\n",
        "                c.attr(label=the_label, labelloc=\"bottom\")\n",
        "                c.attr(rank=\"same\")                \n",
        "                c.node_attr.update(\n",
        "                    width=\"0.65\",\n",
        "                    style=\"filled\",                    \n",
        "                    shape=\"circle\",\n",
        "                    color=HAPPY_COLORS_PALETTE[3],\n",
        "                    fontcolor=HAPPY_COLORS_PALETTE[3],\n",
        "                )\n",
        "    for i in range(0, hidden_layers_nr):\n",
        "        with g.subgraph(name=\"cluster_\" + str(i + 1)) as c:\n",
        "            if layer_types[i] == \"Dense\":\n",
        "                c.attr(color=\"white\")\n",
        "                c.attr(rank=\"same\")\n",
        "                the_label = f'Hidden Layer {i + 1}'\n",
        "                if layers[i].out_features > 10:\n",
        "                    the_label += \" (+\" + str(layers[i].out_features - 10) + \")\"\n",
        "                    hidden_layers[i] = 10\n",
        "                c.attr(labeljust=\"right\", labelloc=\"b\", label=the_label)\n",
        "                for j in range(0, hidden_layers[i]):\n",
        "                    n += 1\n",
        "                    c.node(\n",
        "                        str(n),\n",
        "                        width=\"0.65\",\n",
        "                        shape=\"circle\",\n",
        "                        style=\"filled\",\n",
        "                        color=HAPPY_COLORS_PALETTE[0],\n",
        "                        fontcolor=HAPPY_COLORS_PALETTE[0],\n",
        "                    )\n",
        "                    for h in range(nodes_up - last_layer_nodes + 1, nodes_up + 1):\n",
        "                        g.edge(str(h), str(n))\n",
        "                last_layer_nodes = hidden_layers[i]\n",
        "                nodes_up += hidden_layers[i]\n",
        "            else:\n",
        "                raise Exception(\"Hidden layer type not supported\")\n",
        "\n",
        "    with g.subgraph(name=\"cluster_output\") as c:\n",
        "        if type(layers[-1]) == torch.nn.Linear:\n",
        "            c.attr(color=\"white\")\n",
        "            c.attr(rank=\"same\")\n",
        "            c.attr(labeljust=\"1\")\n",
        "            for i in range(1, output_layer + 1):\n",
        "                n += 1\n",
        "                c.node(\n",
        "                    str(n),\n",
        "                    width=\"0.65\",\n",
        "                    shape=\"circle\",\n",
        "                    style=\"filled\",\n",
        "                    color=HAPPY_COLORS_PALETTE[4],\n",
        "                    fontcolor=HAPPY_COLORS_PALETTE[4],\n",
        "                    \n",
        "                )\n",
        "                for h in range(nodes_up - last_layer_nodes + 1, nodes_up + 1):\n",
        "                    g.edge(str(h), str(n))\n",
        "            c.attr(label=\"Output Layer\", labelloc=\"bottom\")\n",
        "            c.node_attr.update(\n",
        "                color=\"#2ecc71\", style=\"filled\", fontcolor=\"#2ecc71\", shape=\"circle\"\n",
        "            )\n",
        "\n",
        "    g.attr(arrowShape=\"none\")\n",
        "    g.edge_attr.update(arrowhead=\"none\", color=\"#707070\", penwidth=\"2\")\n",
        "    if view is True:\n",
        "        g.view()\n",
        "\n",
        "    return g"
      ],
      "metadata": {
        "id": "DXzk31z_d-_2"
      },
      "execution_count": 674,
      "outputs": []
    },
    {
      "cell_type": "markdown",
      "source": [
        "---\n",
        "## 1. Tensors"
      ],
      "metadata": {
        "id": "nDP8YLqZXOO9"
      }
    },
    {
      "cell_type": "markdown",
      "source": [
        "1. Importez torch et numpy :"
      ],
      "metadata": {
        "id": "4MwfBnRqrk_M"
      }
    },
    {
      "cell_type": "code",
      "source": [
        "# Import libraries\n",
        "import torch as torch\n",
        "import numpy as np"
      ],
      "metadata": {
        "id": "2B7fkW2ZQJ3Z"
      },
      "execution_count": 675,
      "outputs": []
    },
    {
      "cell_type": "markdown",
      "source": [
        "2. Transformez *data* en tensor :"
      ],
      "metadata": {
        "id": "Uv3iNbaBrnb0"
      }
    },
    {
      "cell_type": "code",
      "source": [
        "# Create some data\n",
        "data = [[1, 2],[3, 4]]\n",
        "\n",
        "# From list to tensor\n",
        "data = torch.tensor(data)\n",
        "data"
      ],
      "metadata": {
        "id": "lKs_PGQuRXDF",
        "colab": {
          "base_uri": "https://localhost:8080/"
        },
        "outputId": "4b2af0d5-3b14-430a-bb52-beb3323484e0"
      },
      "execution_count": 676,
      "outputs": [
        {
          "output_type": "execute_result",
          "data": {
            "text/plain": [
              "tensor([[1, 2],\n",
              "        [3, 4]])"
            ]
          },
          "metadata": {},
          "execution_count": 676
        }
      ]
    },
    {
      "cell_type": "markdown",
      "source": [
        "3. Transformez *data* en array puis de array en tensor"
      ],
      "metadata": {
        "id": "2sJ7YK1Xrra0"
      }
    },
    {
      "cell_type": "code",
      "source": [
        "# From list to array\n",
        "data = np.array(data)\n",
        "print(data)\n",
        "# From array to tensor\n",
        "data = torch.tensor(data)\n",
        "print(data)"
      ],
      "metadata": {
        "id": "1bVXSe5jRaXk",
        "colab": {
          "base_uri": "https://localhost:8080/"
        },
        "outputId": "d4bf618b-82b6-43db-ea04-8b41d609f07c"
      },
      "execution_count": 677,
      "outputs": [
        {
          "output_type": "stream",
          "name": "stdout",
          "text": [
            "[[1 2]\n",
            " [3 4]]\n",
            "tensor([[1, 2],\n",
            "        [3, 4]])\n"
          ]
        }
      ]
    },
    {
      "cell_type": "markdown",
      "source": [
        "4. Créez un tensor avec des valeurs aléatoires (**torch.rand()**) ayant une forme (3,4). Puis affichez ses valeurs, son type (**.dtype**) et le device (**.device**) sur lequel est enregistré ce dernier."
      ],
      "metadata": {
        "id": "TQvzZYsKru9l"
      }
    },
    {
      "cell_type": "code",
      "source": [
        "# Create random tensor of shape (3, 4)\n",
        "data_rand = torch.rand([3, 4])\n",
        "print(data_rand)\n",
        "print(data_rand.dtype)\n",
        "print(data_rand.device)"
      ],
      "metadata": {
        "id": "8WezI25dRbDr",
        "colab": {
          "base_uri": "https://localhost:8080/"
        },
        "outputId": "9b68f28a-3ba8-4d6c-caef-51b650168c58"
      },
      "execution_count": 678,
      "outputs": [
        {
          "output_type": "stream",
          "name": "stdout",
          "text": [
            "tensor([[0.5895, 0.7539, 0.1952, 0.0050],\n",
            "        [0.3068, 0.1165, 0.9103, 0.6440],\n",
            "        [0.7071, 0.6581, 0.4913, 0.8913]])\n",
            "torch.float32\n",
            "cpu\n"
          ]
        }
      ]
    },
    {
      "cell_type": "markdown",
      "source": [
        "5. Créez 2 tensors:\n",
        "[[10, 20], [30, 40]]\n",
        "et [[2, 2], [1, 5]].  \n",
        "Faites en la somme puis la multiplication."
      ],
      "metadata": {
        "id": "uSqJfIl6hzbm"
      }
    },
    {
      "cell_type": "code",
      "source": [
        "# Create 2 tensor\n",
        "tensor1 = [[10,20],[30, 40]]\n",
        "tensor2 = [[2, 2],[1, 5]]\n",
        "tensor1 = torch.tensor(tensor1)\n",
        "tensor2 = torch.tensor(tensor2)\n",
        "\n",
        "# Elementwise sum and mult\n",
        "sum = tensor1 + tensor2\n",
        "mult = tensor1 * tensor2\n",
        "print(sum)\n",
        "print(mult)"
      ],
      "metadata": {
        "id": "jlj4QHxCSSQB",
        "colab": {
          "base_uri": "https://localhost:8080/"
        },
        "outputId": "d02a56c6-6ba2-43d8-dfb7-7a16245961f2"
      },
      "execution_count": 679,
      "outputs": [
        {
          "output_type": "stream",
          "name": "stdout",
          "text": [
            "tensor([[12, 22],\n",
            "        [31, 45]])\n",
            "tensor([[ 20,  40],\n",
            "        [ 30, 200]])\n"
          ]
        }
      ]
    },
    {
      "cell_type": "markdown",
      "source": [
        "6. Transformez le résultat de la multiplication en array"
      ],
      "metadata": {
        "id": "RW-nyCQ6h3FF"
      }
    },
    {
      "cell_type": "code",
      "source": [
        "# From tensor to array\n",
        "mult.numpy()\n"
      ],
      "metadata": {
        "id": "ZYPk1WAGTOPr",
        "colab": {
          "base_uri": "https://localhost:8080/"
        },
        "outputId": "25b2769e-5950-4f0a-ff27-72346e28ae3e"
      },
      "execution_count": 680,
      "outputs": [
        {
          "output_type": "execute_result",
          "data": {
            "text/plain": [
              "array([[ 20,  40],\n",
              "       [ 30, 200]])"
            ]
          },
          "metadata": {},
          "execution_count": 680
        }
      ]
    },
    {
      "cell_type": "markdown",
      "source": [
        "---\n",
        "## 2. Build your own MLP\n"
      ],
      "metadata": {
        "id": "vD3cX5i2D6dG"
      }
    },
    {
      "cell_type": "code",
      "source": [
        "import torch\n",
        "import numpy as np\n",
        "import pandas as pd\n",
        "from sklearn.model_selection import train_test_split\n",
        "from sklearn.metrics import confusion_matrix, classification_report\n",
        "import seaborn as sns\n",
        "from pylab import rcParams\n",
        "import matplotlib.pyplot as plt\n",
        "\n",
        "from torch import nn, optim\n",
        "import torch.nn.functional as F\n",
        "\n",
        "\n",
        "%matplotlib inline\n",
        "%config InlineBackend.figure_format='retina'\n",
        "\n",
        "# Display graph parameters\n",
        "sns.set(style='whitegrid', palette='muted', font_scale=1.2)\n",
        "HAPPY_COLORS_PALETTE = [\"#01BEFE\", \"#FFDD00\", \"#FF7D00\", \"#FF006D\", \"#93D30C\", \"#8F00FF\"]\n",
        "sns.set_palette(sns.color_palette(HAPPY_COLORS_PALETTE))\n",
        "rcParams['figure.figsize'] = 12, 8\n",
        "\n",
        "# Random seed parameters\n",
        "RANDOM_SEED = 42\n",
        "np.random.seed(RANDOM_SEED)\n",
        "torch.manual_seed(RANDOM_SEED)"
      ],
      "metadata": {
        "id": "aaijqtE-iwu9",
        "colab": {
          "base_uri": "https://localhost:8080/"
        },
        "outputId": "348e9ef1-6073-435f-cda0-10e63e0996bf"
      },
      "execution_count": 681,
      "outputs": [
        {
          "output_type": "execute_result",
          "data": {
            "text/plain": [
              "<torch._C.Generator at 0x7f0b4796a510>"
            ]
          },
          "metadata": {},
          "execution_count": 681
        }
      ]
    },
    {
      "cell_type": "markdown",
      "source": [
        "### Préparation des données\n",
        "Pour tout projet de data science, la première partie, et souvent la plus fastidieuse, est la préparation des données. Une fois cette étape validée, vous pourrez utiliser ces dernières dans un réseau de neurones."
      ],
      "metadata": {
        "id": "xVQAmEzQgZoz"
      }
    },
    {
      "cell_type": "markdown",
      "source": [
        "Téléchargez les données au lien suivant: [https://www.kaggle.com/jsphyg/weather-dataset-rattle-package](https://www.kaggle.com/jsphyg/weather-dataset-rattle-package)  \n",
        "Créez un dossier Data/ et importer les données dans ce dernier.  \n",
        "Dézippez le fichier dans le dossier Data:"
      ],
      "metadata": {
        "id": "4memL-DVrzdg"
      }
    },
    {
      "cell_type": "code",
      "source": [
        "# Unzip file containing data\n",
        "# !unzip  Data/archive.zip -d Data/"
      ],
      "metadata": {
        "id": "NQZKZp-3hhdK"
      },
      "execution_count": 682,
      "outputs": []
    },
    {
      "cell_type": "markdown",
      "source": [
        "7. Créez le dataframe *df* à partir des données *weatherAUS.csv*"
      ],
      "metadata": {
        "id": "jiZ8l7WOiI37"
      }
    },
    {
      "cell_type": "code",
      "source": [
        "# Read data\n",
        "df = pd.read_csv('weatherAUS.csv')\n",
        "df.head()"
      ],
      "metadata": {
        "id": "nHA7QQ48hhGo",
        "colab": {
          "base_uri": "https://localhost:8080/",
          "height": 357
        },
        "outputId": "255998de-5c73-4318-8234-21b17a7d927f"
      },
      "execution_count": 683,
      "outputs": [
        {
          "output_type": "execute_result",
          "data": {
            "text/html": [
              "\n",
              "  <div id=\"df-37486881-a8b1-4f28-aea1-70d1483ee36c\">\n",
              "    <div class=\"colab-df-container\">\n",
              "      <div>\n",
              "<style scoped>\n",
              "    .dataframe tbody tr th:only-of-type {\n",
              "        vertical-align: middle;\n",
              "    }\n",
              "\n",
              "    .dataframe tbody tr th {\n",
              "        vertical-align: top;\n",
              "    }\n",
              "\n",
              "    .dataframe thead th {\n",
              "        text-align: right;\n",
              "    }\n",
              "</style>\n",
              "<table border=\"1\" class=\"dataframe\">\n",
              "  <thead>\n",
              "    <tr style=\"text-align: right;\">\n",
              "      <th></th>\n",
              "      <th>Date</th>\n",
              "      <th>Location</th>\n",
              "      <th>MinTemp</th>\n",
              "      <th>MaxTemp</th>\n",
              "      <th>Rainfall</th>\n",
              "      <th>Evaporation</th>\n",
              "      <th>Sunshine</th>\n",
              "      <th>WindGustDir</th>\n",
              "      <th>WindGustSpeed</th>\n",
              "      <th>WindDir9am</th>\n",
              "      <th>WindDir3pm</th>\n",
              "      <th>WindSpeed9am</th>\n",
              "      <th>WindSpeed3pm</th>\n",
              "      <th>Humidity9am</th>\n",
              "      <th>Humidity3pm</th>\n",
              "      <th>Pressure9am</th>\n",
              "      <th>Pressure3pm</th>\n",
              "      <th>Cloud9am</th>\n",
              "      <th>Cloud3pm</th>\n",
              "      <th>Temp9am</th>\n",
              "      <th>Temp3pm</th>\n",
              "      <th>RainToday</th>\n",
              "      <th>RainTomorrow</th>\n",
              "    </tr>\n",
              "  </thead>\n",
              "  <tbody>\n",
              "    <tr>\n",
              "      <th>0</th>\n",
              "      <td>2008-12-01</td>\n",
              "      <td>Albury</td>\n",
              "      <td>13.4</td>\n",
              "      <td>22.9</td>\n",
              "      <td>0.6</td>\n",
              "      <td>NaN</td>\n",
              "      <td>NaN</td>\n",
              "      <td>W</td>\n",
              "      <td>44.0</td>\n",
              "      <td>W</td>\n",
              "      <td>WNW</td>\n",
              "      <td>20.0</td>\n",
              "      <td>24.0</td>\n",
              "      <td>71.0</td>\n",
              "      <td>22.0</td>\n",
              "      <td>1007.7</td>\n",
              "      <td>1007.1</td>\n",
              "      <td>8.0</td>\n",
              "      <td>NaN</td>\n",
              "      <td>16.9</td>\n",
              "      <td>21.8</td>\n",
              "      <td>No</td>\n",
              "      <td>No</td>\n",
              "    </tr>\n",
              "    <tr>\n",
              "      <th>1</th>\n",
              "      <td>2008-12-02</td>\n",
              "      <td>Albury</td>\n",
              "      <td>7.4</td>\n",
              "      <td>25.1</td>\n",
              "      <td>0.0</td>\n",
              "      <td>NaN</td>\n",
              "      <td>NaN</td>\n",
              "      <td>WNW</td>\n",
              "      <td>44.0</td>\n",
              "      <td>NNW</td>\n",
              "      <td>WSW</td>\n",
              "      <td>4.0</td>\n",
              "      <td>22.0</td>\n",
              "      <td>44.0</td>\n",
              "      <td>25.0</td>\n",
              "      <td>1010.6</td>\n",
              "      <td>1007.8</td>\n",
              "      <td>NaN</td>\n",
              "      <td>NaN</td>\n",
              "      <td>17.2</td>\n",
              "      <td>24.3</td>\n",
              "      <td>No</td>\n",
              "      <td>No</td>\n",
              "    </tr>\n",
              "    <tr>\n",
              "      <th>2</th>\n",
              "      <td>2008-12-03</td>\n",
              "      <td>Albury</td>\n",
              "      <td>12.9</td>\n",
              "      <td>25.7</td>\n",
              "      <td>0.0</td>\n",
              "      <td>NaN</td>\n",
              "      <td>NaN</td>\n",
              "      <td>WSW</td>\n",
              "      <td>46.0</td>\n",
              "      <td>W</td>\n",
              "      <td>WSW</td>\n",
              "      <td>19.0</td>\n",
              "      <td>26.0</td>\n",
              "      <td>38.0</td>\n",
              "      <td>30.0</td>\n",
              "      <td>1007.6</td>\n",
              "      <td>1008.7</td>\n",
              "      <td>NaN</td>\n",
              "      <td>2.0</td>\n",
              "      <td>21.0</td>\n",
              "      <td>23.2</td>\n",
              "      <td>No</td>\n",
              "      <td>No</td>\n",
              "    </tr>\n",
              "    <tr>\n",
              "      <th>3</th>\n",
              "      <td>2008-12-04</td>\n",
              "      <td>Albury</td>\n",
              "      <td>9.2</td>\n",
              "      <td>28.0</td>\n",
              "      <td>0.0</td>\n",
              "      <td>NaN</td>\n",
              "      <td>NaN</td>\n",
              "      <td>NE</td>\n",
              "      <td>24.0</td>\n",
              "      <td>SE</td>\n",
              "      <td>E</td>\n",
              "      <td>11.0</td>\n",
              "      <td>9.0</td>\n",
              "      <td>45.0</td>\n",
              "      <td>16.0</td>\n",
              "      <td>1017.6</td>\n",
              "      <td>1012.8</td>\n",
              "      <td>NaN</td>\n",
              "      <td>NaN</td>\n",
              "      <td>18.1</td>\n",
              "      <td>26.5</td>\n",
              "      <td>No</td>\n",
              "      <td>No</td>\n",
              "    </tr>\n",
              "    <tr>\n",
              "      <th>4</th>\n",
              "      <td>2008-12-05</td>\n",
              "      <td>Albury</td>\n",
              "      <td>17.5</td>\n",
              "      <td>32.3</td>\n",
              "      <td>1.0</td>\n",
              "      <td>NaN</td>\n",
              "      <td>NaN</td>\n",
              "      <td>W</td>\n",
              "      <td>41.0</td>\n",
              "      <td>ENE</td>\n",
              "      <td>NW</td>\n",
              "      <td>7.0</td>\n",
              "      <td>20.0</td>\n",
              "      <td>82.0</td>\n",
              "      <td>33.0</td>\n",
              "      <td>1010.8</td>\n",
              "      <td>1006.0</td>\n",
              "      <td>7.0</td>\n",
              "      <td>8.0</td>\n",
              "      <td>17.8</td>\n",
              "      <td>29.7</td>\n",
              "      <td>No</td>\n",
              "      <td>No</td>\n",
              "    </tr>\n",
              "  </tbody>\n",
              "</table>\n",
              "</div>\n",
              "      <button class=\"colab-df-convert\" onclick=\"convertToInteractive('df-37486881-a8b1-4f28-aea1-70d1483ee36c')\"\n",
              "              title=\"Convert this dataframe to an interactive table.\"\n",
              "              style=\"display:none;\">\n",
              "        \n",
              "  <svg xmlns=\"http://www.w3.org/2000/svg\" height=\"24px\"viewBox=\"0 0 24 24\"\n",
              "       width=\"24px\">\n",
              "    <path d=\"M0 0h24v24H0V0z\" fill=\"none\"/>\n",
              "    <path d=\"M18.56 5.44l.94 2.06.94-2.06 2.06-.94-2.06-.94-.94-2.06-.94 2.06-2.06.94zm-11 1L8.5 8.5l.94-2.06 2.06-.94-2.06-.94L8.5 2.5l-.94 2.06-2.06.94zm10 10l.94 2.06.94-2.06 2.06-.94-2.06-.94-.94-2.06-.94 2.06-2.06.94z\"/><path d=\"M17.41 7.96l-1.37-1.37c-.4-.4-.92-.59-1.43-.59-.52 0-1.04.2-1.43.59L10.3 9.45l-7.72 7.72c-.78.78-.78 2.05 0 2.83L4 21.41c.39.39.9.59 1.41.59.51 0 1.02-.2 1.41-.59l7.78-7.78 2.81-2.81c.8-.78.8-2.07 0-2.86zM5.41 20L4 18.59l7.72-7.72 1.47 1.35L5.41 20z\"/>\n",
              "  </svg>\n",
              "      </button>\n",
              "      \n",
              "  <style>\n",
              "    .colab-df-container {\n",
              "      display:flex;\n",
              "      flex-wrap:wrap;\n",
              "      gap: 12px;\n",
              "    }\n",
              "\n",
              "    .colab-df-convert {\n",
              "      background-color: #E8F0FE;\n",
              "      border: none;\n",
              "      border-radius: 50%;\n",
              "      cursor: pointer;\n",
              "      display: none;\n",
              "      fill: #1967D2;\n",
              "      height: 32px;\n",
              "      padding: 0 0 0 0;\n",
              "      width: 32px;\n",
              "    }\n",
              "\n",
              "    .colab-df-convert:hover {\n",
              "      background-color: #E2EBFA;\n",
              "      box-shadow: 0px 1px 2px rgba(60, 64, 67, 0.3), 0px 1px 3px 1px rgba(60, 64, 67, 0.15);\n",
              "      fill: #174EA6;\n",
              "    }\n",
              "\n",
              "    [theme=dark] .colab-df-convert {\n",
              "      background-color: #3B4455;\n",
              "      fill: #D2E3FC;\n",
              "    }\n",
              "\n",
              "    [theme=dark] .colab-df-convert:hover {\n",
              "      background-color: #434B5C;\n",
              "      box-shadow: 0px 1px 3px 1px rgba(0, 0, 0, 0.15);\n",
              "      filter: drop-shadow(0px 1px 2px rgba(0, 0, 0, 0.3));\n",
              "      fill: #FFFFFF;\n",
              "    }\n",
              "  </style>\n",
              "\n",
              "      <script>\n",
              "        const buttonEl =\n",
              "          document.querySelector('#df-37486881-a8b1-4f28-aea1-70d1483ee36c button.colab-df-convert');\n",
              "        buttonEl.style.display =\n",
              "          google.colab.kernel.accessAllowed ? 'block' : 'none';\n",
              "\n",
              "        async function convertToInteractive(key) {\n",
              "          const element = document.querySelector('#df-37486881-a8b1-4f28-aea1-70d1483ee36c');\n",
              "          const dataTable =\n",
              "            await google.colab.kernel.invokeFunction('convertToInteractive',\n",
              "                                                     [key], {});\n",
              "          if (!dataTable) return;\n",
              "\n",
              "          const docLinkHtml = 'Like what you see? Visit the ' +\n",
              "            '<a target=\"_blank\" href=https://colab.research.google.com/notebooks/data_table.ipynb>data table notebook</a>'\n",
              "            + ' to learn more about interactive tables.';\n",
              "          element.innerHTML = '';\n",
              "          dataTable['output_type'] = 'display_data';\n",
              "          await google.colab.output.renderOutput(dataTable, element);\n",
              "          const docLink = document.createElement('div');\n",
              "          docLink.innerHTML = docLinkHtml;\n",
              "          element.appendChild(docLink);\n",
              "        }\n",
              "      </script>\n",
              "    </div>\n",
              "  </div>\n",
              "  "
            ],
            "text/plain": [
              "         Date Location  MinTemp  ...  Temp3pm  RainToday  RainTomorrow\n",
              "0  2008-12-01   Albury     13.4  ...     21.8         No            No\n",
              "1  2008-12-02   Albury      7.4  ...     24.3         No            No\n",
              "2  2008-12-03   Albury     12.9  ...     23.2         No            No\n",
              "3  2008-12-04   Albury      9.2  ...     26.5         No            No\n",
              "4  2008-12-05   Albury     17.5  ...     29.7         No            No\n",
              "\n",
              "[5 rows x 23 columns]"
            ]
          },
          "metadata": {},
          "execution_count": 683
        }
      ]
    },
    {
      "cell_type": "markdown",
      "source": [
        "8. Affichez le nombre de lignes puis de colonnes du dataframe"
      ],
      "metadata": {
        "id": "HreH92B7iMev"
      }
    },
    {
      "cell_type": "code",
      "source": [
        "# Number of rows\n",
        "print(len(df))\n",
        "# Number of columns\n",
        "print(len(df.columns))"
      ],
      "metadata": {
        "id": "LxJt4B6Vhg6G",
        "colab": {
          "base_uri": "https://localhost:8080/"
        },
        "outputId": "cadb2698-1fe6-4826-eb08-62eb37416aee"
      },
      "execution_count": 684,
      "outputs": [
        {
          "output_type": "stream",
          "name": "stdout",
          "text": [
            "145460\n",
            "23\n"
          ]
        }
      ]
    },
    {
      "cell_type": "markdown",
      "source": [
        "9. Sélectionnez uniquement les colonnes de *df* qui nous intéresse:  \n",
        "['Rainfall', 'Humidity3pm', 'Pressure9am', 'RainToday', 'RainTomorrow']"
      ],
      "metadata": {
        "id": "EzanVS-UiRsG"
      }
    },
    {
      "cell_type": "code",
      "source": [
        "# Select only relevant columns\n",
        "my_columns = ['Rainfall', 'Humidity3pm', 'Pressure9am', 'RainToday', 'RainTomorrow']\n",
        "df = df[my_columns]\n",
        "df.head()"
      ],
      "metadata": {
        "id": "zJ9fTBKtjHtX",
        "colab": {
          "base_uri": "https://localhost:8080/",
          "height": 206
        },
        "outputId": "f2b884d0-997e-43fd-847d-1c2ad04ded92"
      },
      "execution_count": 685,
      "outputs": [
        {
          "output_type": "execute_result",
          "data": {
            "text/html": [
              "\n",
              "  <div id=\"df-9899d63d-8487-4f52-8efd-f07445ae458b\">\n",
              "    <div class=\"colab-df-container\">\n",
              "      <div>\n",
              "<style scoped>\n",
              "    .dataframe tbody tr th:only-of-type {\n",
              "        vertical-align: middle;\n",
              "    }\n",
              "\n",
              "    .dataframe tbody tr th {\n",
              "        vertical-align: top;\n",
              "    }\n",
              "\n",
              "    .dataframe thead th {\n",
              "        text-align: right;\n",
              "    }\n",
              "</style>\n",
              "<table border=\"1\" class=\"dataframe\">\n",
              "  <thead>\n",
              "    <tr style=\"text-align: right;\">\n",
              "      <th></th>\n",
              "      <th>Rainfall</th>\n",
              "      <th>Humidity3pm</th>\n",
              "      <th>Pressure9am</th>\n",
              "      <th>RainToday</th>\n",
              "      <th>RainTomorrow</th>\n",
              "    </tr>\n",
              "  </thead>\n",
              "  <tbody>\n",
              "    <tr>\n",
              "      <th>0</th>\n",
              "      <td>0.6</td>\n",
              "      <td>22.0</td>\n",
              "      <td>1007.7</td>\n",
              "      <td>No</td>\n",
              "      <td>No</td>\n",
              "    </tr>\n",
              "    <tr>\n",
              "      <th>1</th>\n",
              "      <td>0.0</td>\n",
              "      <td>25.0</td>\n",
              "      <td>1010.6</td>\n",
              "      <td>No</td>\n",
              "      <td>No</td>\n",
              "    </tr>\n",
              "    <tr>\n",
              "      <th>2</th>\n",
              "      <td>0.0</td>\n",
              "      <td>30.0</td>\n",
              "      <td>1007.6</td>\n",
              "      <td>No</td>\n",
              "      <td>No</td>\n",
              "    </tr>\n",
              "    <tr>\n",
              "      <th>3</th>\n",
              "      <td>0.0</td>\n",
              "      <td>16.0</td>\n",
              "      <td>1017.6</td>\n",
              "      <td>No</td>\n",
              "      <td>No</td>\n",
              "    </tr>\n",
              "    <tr>\n",
              "      <th>4</th>\n",
              "      <td>1.0</td>\n",
              "      <td>33.0</td>\n",
              "      <td>1010.8</td>\n",
              "      <td>No</td>\n",
              "      <td>No</td>\n",
              "    </tr>\n",
              "  </tbody>\n",
              "</table>\n",
              "</div>\n",
              "      <button class=\"colab-df-convert\" onclick=\"convertToInteractive('df-9899d63d-8487-4f52-8efd-f07445ae458b')\"\n",
              "              title=\"Convert this dataframe to an interactive table.\"\n",
              "              style=\"display:none;\">\n",
              "        \n",
              "  <svg xmlns=\"http://www.w3.org/2000/svg\" height=\"24px\"viewBox=\"0 0 24 24\"\n",
              "       width=\"24px\">\n",
              "    <path d=\"M0 0h24v24H0V0z\" fill=\"none\"/>\n",
              "    <path d=\"M18.56 5.44l.94 2.06.94-2.06 2.06-.94-2.06-.94-.94-2.06-.94 2.06-2.06.94zm-11 1L8.5 8.5l.94-2.06 2.06-.94-2.06-.94L8.5 2.5l-.94 2.06-2.06.94zm10 10l.94 2.06.94-2.06 2.06-.94-2.06-.94-.94-2.06-.94 2.06-2.06.94z\"/><path d=\"M17.41 7.96l-1.37-1.37c-.4-.4-.92-.59-1.43-.59-.52 0-1.04.2-1.43.59L10.3 9.45l-7.72 7.72c-.78.78-.78 2.05 0 2.83L4 21.41c.39.39.9.59 1.41.59.51 0 1.02-.2 1.41-.59l7.78-7.78 2.81-2.81c.8-.78.8-2.07 0-2.86zM5.41 20L4 18.59l7.72-7.72 1.47 1.35L5.41 20z\"/>\n",
              "  </svg>\n",
              "      </button>\n",
              "      \n",
              "  <style>\n",
              "    .colab-df-container {\n",
              "      display:flex;\n",
              "      flex-wrap:wrap;\n",
              "      gap: 12px;\n",
              "    }\n",
              "\n",
              "    .colab-df-convert {\n",
              "      background-color: #E8F0FE;\n",
              "      border: none;\n",
              "      border-radius: 50%;\n",
              "      cursor: pointer;\n",
              "      display: none;\n",
              "      fill: #1967D2;\n",
              "      height: 32px;\n",
              "      padding: 0 0 0 0;\n",
              "      width: 32px;\n",
              "    }\n",
              "\n",
              "    .colab-df-convert:hover {\n",
              "      background-color: #E2EBFA;\n",
              "      box-shadow: 0px 1px 2px rgba(60, 64, 67, 0.3), 0px 1px 3px 1px rgba(60, 64, 67, 0.15);\n",
              "      fill: #174EA6;\n",
              "    }\n",
              "\n",
              "    [theme=dark] .colab-df-convert {\n",
              "      background-color: #3B4455;\n",
              "      fill: #D2E3FC;\n",
              "    }\n",
              "\n",
              "    [theme=dark] .colab-df-convert:hover {\n",
              "      background-color: #434B5C;\n",
              "      box-shadow: 0px 1px 3px 1px rgba(0, 0, 0, 0.15);\n",
              "      filter: drop-shadow(0px 1px 2px rgba(0, 0, 0, 0.3));\n",
              "      fill: #FFFFFF;\n",
              "    }\n",
              "  </style>\n",
              "\n",
              "      <script>\n",
              "        const buttonEl =\n",
              "          document.querySelector('#df-9899d63d-8487-4f52-8efd-f07445ae458b button.colab-df-convert');\n",
              "        buttonEl.style.display =\n",
              "          google.colab.kernel.accessAllowed ? 'block' : 'none';\n",
              "\n",
              "        async function convertToInteractive(key) {\n",
              "          const element = document.querySelector('#df-9899d63d-8487-4f52-8efd-f07445ae458b');\n",
              "          const dataTable =\n",
              "            await google.colab.kernel.invokeFunction('convertToInteractive',\n",
              "                                                     [key], {});\n",
              "          if (!dataTable) return;\n",
              "\n",
              "          const docLinkHtml = 'Like what you see? Visit the ' +\n",
              "            '<a target=\"_blank\" href=https://colab.research.google.com/notebooks/data_table.ipynb>data table notebook</a>'\n",
              "            + ' to learn more about interactive tables.';\n",
              "          element.innerHTML = '';\n",
              "          dataTable['output_type'] = 'display_data';\n",
              "          await google.colab.output.renderOutput(dataTable, element);\n",
              "          const docLink = document.createElement('div');\n",
              "          docLink.innerHTML = docLinkHtml;\n",
              "          element.appendChild(docLink);\n",
              "        }\n",
              "      </script>\n",
              "    </div>\n",
              "  </div>\n",
              "  "
            ],
            "text/plain": [
              "   Rainfall  Humidity3pm  Pressure9am RainToday RainTomorrow\n",
              "0       0.6         22.0       1007.7        No           No\n",
              "1       0.0         25.0       1010.6        No           No\n",
              "2       0.0         30.0       1007.6        No           No\n",
              "3       0.0         16.0       1017.6        No           No\n",
              "4       1.0         33.0       1010.8        No           No"
            ]
          },
          "metadata": {},
          "execution_count": 685
        }
      ]
    },
    {
      "cell_type": "markdown",
      "source": [
        "10. Checkez les valeurs manquantes puis supprimez les lignes contenant des NaN."
      ],
      "metadata": {
        "id": "piMZrzdXiUuw"
      }
    },
    {
      "cell_type": "code",
      "source": [
        "# Print NaN\n",
        "print(df[df.isna().any(axis=1)])\n",
        "# Drop NaN\n",
        "df.dropna(inplace=True)\n",
        "print('*************')\n",
        "print(df)"
      ],
      "metadata": {
        "id": "5AyNzQNueZX0",
        "colab": {
          "base_uri": "https://localhost:8080/"
        },
        "outputId": "8d231c8d-20ad-48c7-b984-ace4d523d554"
      },
      "execution_count": 686,
      "outputs": [
        {
          "output_type": "stream",
          "name": "stdout",
          "text": [
            "        Rainfall  Humidity3pm  Pressure9am RainToday RainTomorrow\n",
            "14           0.0         32.0       1009.7        No          NaN\n",
            "15           NaN         28.0       1013.4       NaN           No\n",
            "283          0.0         55.0       1017.8        No          NaN\n",
            "284          NaN         46.0       1022.2       NaN           No\n",
            "435          0.0         37.0       1020.9        No          NaN\n",
            "...          ...          ...          ...       ...          ...\n",
            "145092       NaN         67.0       1015.2       NaN          NaN\n",
            "145093       NaN         39.0       1022.4       NaN           No\n",
            "145335       0.0         11.0       1013.7        No          NaN\n",
            "145336       NaN         16.0       1011.4       NaN           No\n",
            "145459       0.0         36.0       1020.2        No          NaN\n",
            "\n",
            "[20771 rows x 5 columns]\n",
            "*************\n",
            "        Rainfall  Humidity3pm  Pressure9am RainToday RainTomorrow\n",
            "0            0.6         22.0       1007.7        No           No\n",
            "1            0.0         25.0       1010.6        No           No\n",
            "2            0.0         30.0       1007.6        No           No\n",
            "3            0.0         16.0       1017.6        No           No\n",
            "4            1.0         33.0       1010.8        No           No\n",
            "...          ...          ...          ...       ...          ...\n",
            "145454       0.0         27.0       1024.7        No           No\n",
            "145455       0.0         24.0       1024.6        No           No\n",
            "145456       0.0         21.0       1023.5        No           No\n",
            "145457       0.0         24.0       1021.0        No           No\n",
            "145458       0.0         24.0       1019.4        No           No\n",
            "\n",
            "[124689 rows x 5 columns]\n"
          ]
        }
      ]
    },
    {
      "cell_type": "markdown",
      "source": [
        "Dans cette exemple, nous avons assez d'observations à étudier, on va se contenter de supprimer toutes les lignes où des NaN sont présents.\n",
        "**Note:** cette manière de pratiquer n'est pas très académique mais le but du TP est autre."
      ],
      "metadata": {
        "id": "rfs1lCGzkXun"
      }
    },
    {
      "cell_type": "markdown",
      "source": [
        "11. Les modèles de machine learning n'acceptent que des données numériques. Il faut donc transformer les valeurs qualitatives en quantitatives des colonnes RainToday et RainTomorrow:  \n",
        "- Yes = 1\n",
        "- No = 0\n",
        "\n",
        "S'assurer que les colonnes soient bien de type **int**."
      ],
      "metadata": {
        "id": "V9jgi-0Jngap"
      }
    },
    {
      "cell_type": "code",
      "source": [
        "# Transform string into binary int values\n",
        "# df.loc[df.B == 'b', 'C'] = 'no'\n",
        "# df.loc[df.B == 'b', 'C'] = 'no'\n",
        "dico = {\n",
        "    'Yes': 1,\n",
        "    'No' : 0,\n",
        "}\n",
        "\n",
        "# Map it to Genre\n",
        "df['RainTomorrow'] = df['RainTomorrow'].map(dico)\n",
        "df['RainToday'] = df['RainToday'].map(dico)\n",
        "df.head(100)"
      ],
      "metadata": {
        "id": "PPRFz0WkjHpy",
        "colab": {
          "base_uri": "https://localhost:8080/",
          "height": 423
        },
        "outputId": "51773a69-371c-4d81-b4b8-3b640970f403"
      },
      "execution_count": 687,
      "outputs": [
        {
          "output_type": "execute_result",
          "data": {
            "text/html": [
              "\n",
              "  <div id=\"df-ce49905c-7558-4035-ba01-bd2e61817836\">\n",
              "    <div class=\"colab-df-container\">\n",
              "      <div>\n",
              "<style scoped>\n",
              "    .dataframe tbody tr th:only-of-type {\n",
              "        vertical-align: middle;\n",
              "    }\n",
              "\n",
              "    .dataframe tbody tr th {\n",
              "        vertical-align: top;\n",
              "    }\n",
              "\n",
              "    .dataframe thead th {\n",
              "        text-align: right;\n",
              "    }\n",
              "</style>\n",
              "<table border=\"1\" class=\"dataframe\">\n",
              "  <thead>\n",
              "    <tr style=\"text-align: right;\">\n",
              "      <th></th>\n",
              "      <th>Rainfall</th>\n",
              "      <th>Humidity3pm</th>\n",
              "      <th>Pressure9am</th>\n",
              "      <th>RainToday</th>\n",
              "      <th>RainTomorrow</th>\n",
              "    </tr>\n",
              "  </thead>\n",
              "  <tbody>\n",
              "    <tr>\n",
              "      <th>0</th>\n",
              "      <td>0.6</td>\n",
              "      <td>22.0</td>\n",
              "      <td>1007.7</td>\n",
              "      <td>0</td>\n",
              "      <td>0</td>\n",
              "    </tr>\n",
              "    <tr>\n",
              "      <th>1</th>\n",
              "      <td>0.0</td>\n",
              "      <td>25.0</td>\n",
              "      <td>1010.6</td>\n",
              "      <td>0</td>\n",
              "      <td>0</td>\n",
              "    </tr>\n",
              "    <tr>\n",
              "      <th>2</th>\n",
              "      <td>0.0</td>\n",
              "      <td>30.0</td>\n",
              "      <td>1007.6</td>\n",
              "      <td>0</td>\n",
              "      <td>0</td>\n",
              "    </tr>\n",
              "    <tr>\n",
              "      <th>3</th>\n",
              "      <td>0.0</td>\n",
              "      <td>16.0</td>\n",
              "      <td>1017.6</td>\n",
              "      <td>0</td>\n",
              "      <td>0</td>\n",
              "    </tr>\n",
              "    <tr>\n",
              "      <th>4</th>\n",
              "      <td>1.0</td>\n",
              "      <td>33.0</td>\n",
              "      <td>1010.8</td>\n",
              "      <td>0</td>\n",
              "      <td>0</td>\n",
              "    </tr>\n",
              "    <tr>\n",
              "      <th>...</th>\n",
              "      <td>...</td>\n",
              "      <td>...</td>\n",
              "      <td>...</td>\n",
              "      <td>...</td>\n",
              "      <td>...</td>\n",
              "    </tr>\n",
              "    <tr>\n",
              "      <th>97</th>\n",
              "      <td>0.0</td>\n",
              "      <td>20.0</td>\n",
              "      <td>1017.0</td>\n",
              "      <td>0</td>\n",
              "      <td>0</td>\n",
              "    </tr>\n",
              "    <tr>\n",
              "      <th>98</th>\n",
              "      <td>0.0</td>\n",
              "      <td>28.0</td>\n",
              "      <td>1019.7</td>\n",
              "      <td>0</td>\n",
              "      <td>0</td>\n",
              "    </tr>\n",
              "    <tr>\n",
              "      <th>99</th>\n",
              "      <td>0.0</td>\n",
              "      <td>25.0</td>\n",
              "      <td>1019.5</td>\n",
              "      <td>0</td>\n",
              "      <td>1</td>\n",
              "    </tr>\n",
              "    <tr>\n",
              "      <th>100</th>\n",
              "      <td>1.2</td>\n",
              "      <td>23.0</td>\n",
              "      <td>1021.3</td>\n",
              "      <td>1</td>\n",
              "      <td>0</td>\n",
              "    </tr>\n",
              "    <tr>\n",
              "      <th>101</th>\n",
              "      <td>0.0</td>\n",
              "      <td>90.0</td>\n",
              "      <td>1019.5</td>\n",
              "      <td>0</td>\n",
              "      <td>1</td>\n",
              "    </tr>\n",
              "  </tbody>\n",
              "</table>\n",
              "<p>100 rows × 5 columns</p>\n",
              "</div>\n",
              "      <button class=\"colab-df-convert\" onclick=\"convertToInteractive('df-ce49905c-7558-4035-ba01-bd2e61817836')\"\n",
              "              title=\"Convert this dataframe to an interactive table.\"\n",
              "              style=\"display:none;\">\n",
              "        \n",
              "  <svg xmlns=\"http://www.w3.org/2000/svg\" height=\"24px\"viewBox=\"0 0 24 24\"\n",
              "       width=\"24px\">\n",
              "    <path d=\"M0 0h24v24H0V0z\" fill=\"none\"/>\n",
              "    <path d=\"M18.56 5.44l.94 2.06.94-2.06 2.06-.94-2.06-.94-.94-2.06-.94 2.06-2.06.94zm-11 1L8.5 8.5l.94-2.06 2.06-.94-2.06-.94L8.5 2.5l-.94 2.06-2.06.94zm10 10l.94 2.06.94-2.06 2.06-.94-2.06-.94-.94-2.06-.94 2.06-2.06.94z\"/><path d=\"M17.41 7.96l-1.37-1.37c-.4-.4-.92-.59-1.43-.59-.52 0-1.04.2-1.43.59L10.3 9.45l-7.72 7.72c-.78.78-.78 2.05 0 2.83L4 21.41c.39.39.9.59 1.41.59.51 0 1.02-.2 1.41-.59l7.78-7.78 2.81-2.81c.8-.78.8-2.07 0-2.86zM5.41 20L4 18.59l7.72-7.72 1.47 1.35L5.41 20z\"/>\n",
              "  </svg>\n",
              "      </button>\n",
              "      \n",
              "  <style>\n",
              "    .colab-df-container {\n",
              "      display:flex;\n",
              "      flex-wrap:wrap;\n",
              "      gap: 12px;\n",
              "    }\n",
              "\n",
              "    .colab-df-convert {\n",
              "      background-color: #E8F0FE;\n",
              "      border: none;\n",
              "      border-radius: 50%;\n",
              "      cursor: pointer;\n",
              "      display: none;\n",
              "      fill: #1967D2;\n",
              "      height: 32px;\n",
              "      padding: 0 0 0 0;\n",
              "      width: 32px;\n",
              "    }\n",
              "\n",
              "    .colab-df-convert:hover {\n",
              "      background-color: #E2EBFA;\n",
              "      box-shadow: 0px 1px 2px rgba(60, 64, 67, 0.3), 0px 1px 3px 1px rgba(60, 64, 67, 0.15);\n",
              "      fill: #174EA6;\n",
              "    }\n",
              "\n",
              "    [theme=dark] .colab-df-convert {\n",
              "      background-color: #3B4455;\n",
              "      fill: #D2E3FC;\n",
              "    }\n",
              "\n",
              "    [theme=dark] .colab-df-convert:hover {\n",
              "      background-color: #434B5C;\n",
              "      box-shadow: 0px 1px 3px 1px rgba(0, 0, 0, 0.15);\n",
              "      filter: drop-shadow(0px 1px 2px rgba(0, 0, 0, 0.3));\n",
              "      fill: #FFFFFF;\n",
              "    }\n",
              "  </style>\n",
              "\n",
              "      <script>\n",
              "        const buttonEl =\n",
              "          document.querySelector('#df-ce49905c-7558-4035-ba01-bd2e61817836 button.colab-df-convert');\n",
              "        buttonEl.style.display =\n",
              "          google.colab.kernel.accessAllowed ? 'block' : 'none';\n",
              "\n",
              "        async function convertToInteractive(key) {\n",
              "          const element = document.querySelector('#df-ce49905c-7558-4035-ba01-bd2e61817836');\n",
              "          const dataTable =\n",
              "            await google.colab.kernel.invokeFunction('convertToInteractive',\n",
              "                                                     [key], {});\n",
              "          if (!dataTable) return;\n",
              "\n",
              "          const docLinkHtml = 'Like what you see? Visit the ' +\n",
              "            '<a target=\"_blank\" href=https://colab.research.google.com/notebooks/data_table.ipynb>data table notebook</a>'\n",
              "            + ' to learn more about interactive tables.';\n",
              "          element.innerHTML = '';\n",
              "          dataTable['output_type'] = 'display_data';\n",
              "          await google.colab.output.renderOutput(dataTable, element);\n",
              "          const docLink = document.createElement('div');\n",
              "          docLink.innerHTML = docLinkHtml;\n",
              "          element.appendChild(docLink);\n",
              "        }\n",
              "      </script>\n",
              "    </div>\n",
              "  </div>\n",
              "  "
            ],
            "text/plain": [
              "     Rainfall  Humidity3pm  Pressure9am  RainToday  RainTomorrow\n",
              "0         0.6         22.0       1007.7          0             0\n",
              "1         0.0         25.0       1010.6          0             0\n",
              "2         0.0         30.0       1007.6          0             0\n",
              "3         0.0         16.0       1017.6          0             0\n",
              "4         1.0         33.0       1010.8          0             0\n",
              "..        ...          ...          ...        ...           ...\n",
              "97        0.0         20.0       1017.0          0             0\n",
              "98        0.0         28.0       1019.7          0             0\n",
              "99        0.0         25.0       1019.5          0             1\n",
              "100       1.2         23.0       1021.3          1             0\n",
              "101       0.0         90.0       1019.5          0             1\n",
              "\n",
              "[100 rows x 5 columns]"
            ]
          },
          "metadata": {},
          "execution_count": 687
        }
      ]
    },
    {
      "cell_type": "markdown",
      "source": [
        "Ensuite, on va découper notre jeu de données en 2 datasets:  \n",
        "- 1 pour l'entraînement du réseau. Que l'on découpera ensuite en 2 autres datasets (train/test)\n",
        "- 1 pour tester notre modèle (test). Ce dernier va nous permettre de calculer les performances de notre modèle sur des données nouvelles, pas utilisée lors de l'entraînement."
      ],
      "metadata": {
        "id": "qao8sQlInxWO"
      }
    },
    {
      "cell_type": "markdown",
      "source": [
        "12. Utilisez **train_test_split** pour créer deux datasets à partir de *df*: *df_train* et *df_test*"
      ],
      "metadata": {
        "id": "E2W_vx8eijSg"
      }
    },
    {
      "cell_type": "code",
      "source": [
        "# Split df into train/test set (80%/20%) with random_state=RANDOM_SEED\n",
        "df_train, df_test= train_test_split(df,  test_size=0.20, random_state=RANDOM_SEED)\n",
        "print(len(df_train))\n",
        "print(len(df_test))"
      ],
      "metadata": {
        "id": "il0ifVSgq8dq",
        "colab": {
          "base_uri": "https://localhost:8080/"
        },
        "outputId": "f4653418-7e50-4c4a-86a1-57a27f30e9ff"
      },
      "execution_count": 688,
      "outputs": [
        {
          "output_type": "stream",
          "name": "stdout",
          "text": [
            "99751\n",
            "24938\n"
          ]
        }
      ]
    },
    {
      "cell_type": "markdown",
      "source": [
        "Un des problèmes classique en machine learning est le déséquilibre de classe. Ce problème est souvent à l'origine de piètres performances des modèles. On va regarder ce qu'il en est pour notre jeu de données:"
      ],
      "metadata": {
        "id": "j6jTOGxFmRFE"
      }
    },
    {
      "cell_type": "markdown",
      "source": [
        "13. Tracez un barplot qui représente la distribution des valeurs de la colonne *df_train.RainTomorrow*. Vous pouvez facilement y parvenir grâce à *sns.countplot()*"
      ],
      "metadata": {
        "id": "p9Fs2W6cimrd"
      }
    },
    {
      "cell_type": "code",
      "source": [
        "# Countplot\n",
        "sns.set_theme(style=\"darkgrid\")\n",
        "ax = sns.countplot(x=\"RainTomorrow\", data=df_train)"
      ],
      "metadata": {
        "id": "nn-ywgK_lFdf",
        "colab": {
          "base_uri": "https://localhost:8080/",
          "height": 501
        },
        "outputId": "89441a7c-aeef-49a4-877b-4e3a7b8f4af6"
      },
      "execution_count": 689,
      "outputs": [
        {
          "output_type": "display_data",
          "data": {
            "image/png": "[encoded data removed]",
            "text/plain": [
              "<Figure size 864x576 with 1 Axes>"
            ]
          },
          "metadata": {
            "image/png": {
              "width": 744,
              "height": 484
            }
          }
        }
      ]
    },
    {
      "cell_type": "code",
      "source": [
        ""
      ],
      "metadata": {
        "id": "wjBd80F7gBuI"
      },
      "execution_count": 689,
      "outputs": []
    },
    {
      "cell_type": "markdown",
      "source": [
        "14. Déterminer le pourcentage de 0 et de 1 dans cette même colonnne *df_train.RainTomorrow*"
      ],
      "metadata": {
        "id": "ihxBzXUeiuQU"
      }
    },
    {
      "cell_type": "code",
      "source": [
        "# In percent, we get:\n",
        "df_train['RainTomorrow'].value_counts(normalize=True) * 100"
      ],
      "metadata": {
        "id": "8_eNXWp4p934",
        "colab": {
          "base_uri": "https://localhost:8080/"
        },
        "outputId": "40319287-aacb-4c54-d13d-0f53de75b245"
      },
      "execution_count": 690,
      "outputs": [
        {
          "output_type": "execute_result",
          "data": {
            "text/plain": [
              "0    77.883931\n",
              "1    22.116069\n",
              "Name: RainTomorrow, dtype: float64"
            ]
          },
          "metadata": {},
          "execution_count": 690
        }
      ]
    },
    {
      "cell_type": "markdown",
      "source": [
        "Notre dataset est énormément déséquilibré! (78%/22%).  \n",
        " On va appliquer la technique dites d'oversampling (simple). C'est à dire augmenter la quantité de lignes ayant pour valeur cible 1 pour en avoir que de 1. Ici, on ajoute simplement à df_train des lignes où RainTomorrow == 1."
      ],
      "metadata": {
        "id": "xivMcFzjn1Oq"
      }
    },
    {
      "cell_type": "code",
      "source": [
        "# Oversampling\n",
        "df_train = pd.concat([df_train, df_train[df_train.RainTomorrow == 1], df_train[df_train.RainTomorrow == 1]], axis=0)"
      ],
      "metadata": {
        "id": "m8p-cN_2o5FD"
      },
      "execution_count": 691,
      "outputs": []
    },
    {
      "cell_type": "markdown",
      "source": [
        "15. Tracez l'histogramme qui montre la nouvelle distribution de RainTomorrow et calculez le pourcentage de 0 et de 1."
      ],
      "metadata": {
        "id": "jubqWglTi023"
      }
    },
    {
      "cell_type": "code",
      "source": [
        "# Print again the new balance between rain and no rain\n",
        "sns.set_theme(style=\"darkgrid\")\n",
        "ax = sns.countplot(x=\"RainTomorrow\", data=df_train)\n"
      ],
      "metadata": {
        "id": "DCYVGN85q8fh",
        "colab": {
          "base_uri": "https://localhost:8080/",
          "height": 501
        },
        "outputId": "28255f09-feaf-494e-ed7c-3890d296b081"
      },
      "execution_count": 692,
      "outputs": [
        {
          "output_type": "display_data",
          "data": {
            "image/png": "[encoded data removed]",
            "text/plain": [
              "<Figure size 864x576 with 1 Axes>"
            ]
          },
          "metadata": {
            "image/png": {
              "width": 744,
              "height": 484
            }
          }
        }
      ]
    },
    {
      "cell_type": "code",
      "source": [
        "# In percent, we get:\n",
        "df_train['RainTomorrow'].value_counts(normalize=True) * 100"
      ],
      "metadata": {
        "id": "SckuiYTdposM",
        "colab": {
          "base_uri": "https://localhost:8080/"
        },
        "outputId": "a03f2d3a-8671-4c64-c495-38e2fde85d22"
      },
      "execution_count": 693,
      "outputs": [
        {
          "output_type": "execute_result",
          "data": {
            "text/plain": [
              "0    53.999013\n",
              "1    46.000987\n",
              "Name: RainTomorrow, dtype: float64"
            ]
          },
          "metadata": {},
          "execution_count": 693
        }
      ]
    },
    {
      "cell_type": "markdown",
      "source": [
        "Maintenant que nos données sont à peu près équilibrées (53%/46%), il faut découper notre jeu de données en jeu de train et validation."
      ],
      "metadata": {
        "id": "8uuzPdSErQai"
      }
    },
    {
      "cell_type": "markdown",
      "source": [
        ""
      ],
      "metadata": {
        "id": "VuRXaHk7ie6k"
      }
    },
    {
      "cell_type": "markdown",
      "source": [
        "16. Découpez en deux dataset le dataframe df_train (80% de données en train et 20% en validation). Vous pouvez à nouveau utiliser la fonction **train_test_split**, mais cette fois avec df_train et les colonnes pertinentes. df_train[X] pour les variables et df_train[y] pour la valeur cible."
      ],
      "metadata": {
        "id": "7-3D5jDTi5kI"
      }
    },
    {
      "cell_type": "code",
      "source": [
        "# Split df_train in train/validation set (80%/20%) with random_state=RANDOM_SEED\n",
        "x_train, x_validation, y_train, y_validation = train_test_split(df_train.drop(columns='RainTomorrow'), df_train['RainTomorrow'], test_size=0.20, random_state=RANDOM_SEED)\n",
        "print(x_train)\n",
        "print(y_train)"
      ],
      "metadata": {
        "id": "y5G6dQoGq8Zk",
        "colab": {
          "base_uri": "https://localhost:8080/"
        },
        "outputId": "79dcfffe-aa8c-447c-fb20-205a69289967"
      },
      "execution_count": 694,
      "outputs": [
        {
          "output_type": "stream",
          "name": "stdout",
          "text": [
            "        Rainfall  Humidity3pm  Pressure9am  RainToday\n",
            "62657        0.4         66.0       1013.2          0\n",
            "10798        0.0         74.0       1001.2          0\n",
            "93964       16.4         24.0       1014.3          1\n",
            "68747        0.0         51.0       1005.9          0\n",
            "136325       0.0          4.0       1016.1          0\n",
            "...          ...          ...          ...        ...\n",
            "3262         0.0         71.0       1017.0          0\n",
            "39154        2.6         92.0       1005.4          1\n",
            "129666       0.0         59.0       1004.9          0\n",
            "34908        0.0         66.0       1014.3          0\n",
            "43974        0.0         83.0       1015.2          0\n",
            "\n",
            "[115098 rows x 4 columns]\n",
            "62657     1\n",
            "10798     0\n",
            "93964     0\n",
            "68747     1\n",
            "136325    0\n",
            "         ..\n",
            "3262      1\n",
            "39154     1\n",
            "129666    1\n",
            "34908     1\n",
            "43974     1\n",
            "Name: RainTomorrow, Length: 115098, dtype: int64\n"
          ]
        }
      ]
    },
    {
      "cell_type": "markdown",
      "source": [
        "17. Convertissez X_train, X_test, y_train, y_test en array (*.to_numpy*) puis de array en tensor (*torch.from_numpy*) sous la forme de float (*.float*). Attention les *y_* doivent être *.squeeze*."
      ],
      "metadata": {
        "id": "Lsm01Sg4i-X-"
      }
    },
    {
      "cell_type": "code",
      "source": [
        "# Convert data from numpy to float tensor\n",
        "x_train = torch.from_numpy(x_train.to_numpy()).float()\n",
        "x_validation = torch.from_numpy(x_validation.to_numpy()).float()\n",
        "y_train = (torch.from_numpy(y_train.to_numpy()).float()).squeeze()\n",
        "y_validation = (torch.from_numpy(y_validation.to_numpy()).float()).squeeze()\n",
        "print(x_train.dtype)\n",
        "print(y_train.dtype)\n",
        "print(x_validation.dtype)\n",
        "print(y_validation.dtype)"
      ],
      "metadata": {
        "id": "uoK0jxxii_TE",
        "colab": {
          "base_uri": "https://localhost:8080/"
        },
        "outputId": "72cd63d8-3927-4037-c6da-3b785eb66591"
      },
      "execution_count": 695,
      "outputs": [
        {
          "output_type": "stream",
          "name": "stdout",
          "text": [
            "torch.float32\n",
            "torch.float32\n",
            "torch.float32\n",
            "torch.float32\n"
          ]
        }
      ]
    },
    {
      "cell_type": "markdown",
      "source": [
        "### Multi Layer Perceptron"
      ],
      "metadata": {
        "id": "T1NOO6qdfqxX"
      }
    },
    {
      "cell_type": "markdown",
      "source": [
        "#### Create the network"
      ],
      "metadata": {
        "id": "UcRoSFY8jJmo"
      }
    },
    {
      "cell_type": "markdown",
      "source": [
        "Dans cette partie, vous allez utiliser un MLP pour réaliser les prédictions de pluie à l'aide de la variable RainTomorrow. Vous pouvez observer dans la classe MLP les différentes couches de neurones, leurs dimensions et les fonctions d'activations utilisées."
      ],
      "metadata": {
        "id": "OWcprwuEuDKJ"
      }
    },
    {
      "cell_type": "code",
      "source": [
        "# Définir la classe MLP\n",
        "class MLP(nn.Module):\n",
        "\n",
        "  def __init__(self, n_features):\n",
        "    super(MLP, self).__init__()\n",
        "    self.fc1 = nn.Linear(n_features, 5)\n",
        "    self.fc2 = nn.Linear(5, 3)\n",
        "    self.fc3 = nn.Linear(3, 1)\n",
        "\n",
        "  def forward(self, x):\n",
        "    x = F.relu(self.fc1(x))\n",
        "    x = F.relu(self.fc2(x))\n",
        "    return torch.sigmoid(self.fc3(x))"
      ],
      "metadata": {
        "id": "c0kw3K2LfrUF"
      },
      "execution_count": 696,
      "outputs": []
    },
    {
      "cell_type": "code",
      "source": [
        "# Initialize the network\n",
        "model = MLP(x_train.shape[1])"
      ],
      "metadata": {
        "id": "id7WGwHIjXIU"
      },
      "execution_count": 697,
      "outputs": []
    },
    {
      "cell_type": "code",
      "source": [
        "# Print our network\n",
        "ann_viz(model, view=False)"
      ],
      "metadata": {
        "id": "8z0pBQz9uBQp",
        "colab": {
          "base_uri": "https://localhost:8080/",
          "height": 611
        },
        "outputId": "9fcbeb41-8fc4-47cf-e89e-6956d08336e8"
      },
      "execution_count": 698,
      "outputs": [
        {
          "output_type": "execute_result",
          "data": {
            "text/plain": [
              "<graphviz.dot.Digraph at 0x7f0b2a8b1710>"
            ],
            "image/svg+xml": "<?xml version=\"1.0\" encoding=\"UTF-8\" standalone=\"no\"?>\n<!DOCTYPE svg PUBLIC \"-//W3C//DTD SVG 1.1//EN\"\n \"http://www.w3.org/Graphics/SVG/1.1/DTD/svg11.dtd\">\n<!-- Generated by graphviz version 2.40.1 (20161225.0304)\n -->\n<!-- Title: g Pages: 1 -->\n<svg width=\"424pt\" height=\"443pt\"\n viewBox=\"0.00 0.00 424.00 443.00\" xmlns=\"http://www.w3.org/2000/svg\" xmlns:xlink=\"http://www.w3.org/1999/xlink\">\n<g id=\"graph0\" class=\"graph\" transform=\"scale(1 1) rotate(0) translate(4 439)\">\n<title>g</title>\n<polygon fill=\"#ffffff\" stroke=\"transparent\" points=\"-4,4 -4,-439 420,-439 420,4 -4,4\"/>\n<g id=\"clust1\" class=\"cluster\">\n<title>cluster_input</title>\n<polygon fill=\"none\" stroke=\"#ffffff\" points=\"0,-49 0,-385 84,-385 84,-49 0,-49\"/>\n<text text-anchor=\"middle\" x=\"42\" y=\"-56.8\" font-family=\"Times,serif\" font-size=\"14.00\" fill=\"#000000\">Input Layer</text>\n</g>\n<g id=\"clust2\" class=\"cluster\">\n<title>cluster_1</title>\n<polygon fill=\"none\" stroke=\"#ffffff\" points=\"92,-8 92,-427 199,-427 199,-8 92,-8\"/>\n<text text-anchor=\"middle\" x=\"145.5\" y=\"-15.8\" font-family=\"Times,serif\" font-size=\"14.00\" fill=\"#000000\">Hidden Layer 1</text>\n</g>\n<g id=\"clust3\" class=\"cluster\">\n<title>cluster_2</title>\n<polygon fill=\"none\" stroke=\"#ffffff\" points=\"207,-91 207,-344 314,-344 314,-91 207,-91\"/>\n<text text-anchor=\"middle\" x=\"260.5\" y=\"-98.8\" font-family=\"Times,serif\" font-size=\"14.00\" fill=\"#000000\">Hidden Layer 2</text>\n</g>\n<g id=\"clust4\" class=\"cluster\">\n<title>cluster_output</title>\n<polygon fill=\"none\" stroke=\"#ffffff\" points=\"322,-174 322,-261 416,-261 416,-174 322,-174\"/>\n<text text-anchor=\"middle\" x=\"369\" y=\"-181.8\" font-family=\"Times,serif\" font-size=\"14.00\" fill=\"#000000\">Output Layer</text>\n</g>\n<!-- 1 -->\n<g id=\"node1\" class=\"node\">\n<title>1</title>\n<ellipse fill=\"#ff006d\" stroke=\"#ff006d\" cx=\"41.5\" cy=\"-353\" rx=\"23.5\" ry=\"23.5\"/>\n<text text-anchor=\"middle\" x=\"41.5\" y=\"-349.3\" font-family=\"Times,serif\" font-size=\"14.00\" fill=\"#ff006d\">1</text>\n</g>\n<!-- 5 -->\n<g id=\"node5\" class=\"node\">\n<title>5</title>\n<ellipse fill=\"#01befe\" stroke=\"#01befe\" cx=\"145.5\" cy=\"-146\" rx=\"23.5\" ry=\"23.5\"/>\n<text text-anchor=\"middle\" x=\"145.5\" y=\"-142.3\" font-family=\"Times,serif\" font-size=\"14.00\" fill=\"#01befe\">5</text>\n</g>\n<!-- 1&#45;&gt;5 -->\n<g id=\"edge1\" class=\"edge\">\n<title>1&#45;&gt;5</title>\n<path fill=\"none\" stroke=\"#707070\" stroke-width=\"2\" d=\"M52.2381,-331.627C72.2189,-291.8576 114.8838,-206.9379 134.8203,-167.2567\"/>\n</g>\n<!-- 6 -->\n<g id=\"node6\" class=\"node\">\n<title>6</title>\n<ellipse fill=\"#01befe\" stroke=\"#01befe\" cx=\"145.5\" cy=\"-63\" rx=\"23.5\" ry=\"23.5\"/>\n<text text-anchor=\"middle\" x=\"145.5\" y=\"-59.3\" font-family=\"Times,serif\" font-size=\"14.00\" fill=\"#01befe\">6</text>\n</g>\n<!-- 1&#45;&gt;6 -->\n<g id=\"edge5\" class=\"edge\">\n<title>1&#45;&gt;6</title>\n<path fill=\"none\" stroke=\"#707070\" stroke-width=\"2\" d=\"M49.488,-330.7257C68.8467,-276.7449 118.0981,-139.409 137.4848,-85.3502\"/>\n</g>\n<!-- 7 -->\n<g id=\"node7\" class=\"node\">\n<title>7</title>\n<ellipse fill=\"#01befe\" stroke=\"#01befe\" cx=\"145.5\" cy=\"-395\" rx=\"23.5\" ry=\"23.5\"/>\n<text text-anchor=\"middle\" x=\"145.5\" y=\"-391.3\" font-family=\"Times,serif\" font-size=\"14.00\" fill=\"#01befe\">7</text>\n</g>\n<!-- 1&#45;&gt;7 -->\n<g id=\"edge9\" class=\"edge\">\n<title>1&#45;&gt;7</title>\n<path fill=\"none\" stroke=\"#707070\" stroke-width=\"2\" d=\"M63.3018,-361.8046C80.9324,-368.9246 105.6506,-378.907 123.3687,-386.0624\"/>\n</g>\n<!-- 8 -->\n<g id=\"node8\" class=\"node\">\n<title>8</title>\n<ellipse fill=\"#01befe\" stroke=\"#01befe\" cx=\"145.5\" cy=\"-312\" rx=\"23.5\" ry=\"23.5\"/>\n<text text-anchor=\"middle\" x=\"145.5\" y=\"-308.3\" font-family=\"Times,serif\" font-size=\"14.00\" fill=\"#01befe\">8</text>\n</g>\n<!-- 1&#45;&gt;8 -->\n<g id=\"edge13\" class=\"edge\">\n<title>1&#45;&gt;8</title>\n<path fill=\"none\" stroke=\"#707070\" stroke-width=\"2\" d=\"M63.5557,-344.305C81.2049,-337.3471 105.8353,-327.637 123.4761,-320.6825\"/>\n</g>\n<!-- 9 -->\n<g id=\"node9\" class=\"node\">\n<title>9</title>\n<ellipse fill=\"#01befe\" stroke=\"#01befe\" cx=\"145.5\" cy=\"-229\" rx=\"23.5\" ry=\"23.5\"/>\n<text text-anchor=\"middle\" x=\"145.5\" y=\"-225.3\" font-family=\"Times,serif\" font-size=\"14.00\" fill=\"#01befe\">9</text>\n</g>\n<!-- 1&#45;&gt;9 -->\n<g id=\"edge17\" class=\"edge\">\n<title>1&#45;&gt;9</title>\n<path fill=\"none\" stroke=\"#707070\" stroke-width=\"2\" d=\"M56.6225,-334.9693C76.3402,-311.4598 110.6326,-270.5727 130.3593,-247.0524\"/>\n</g>\n<!-- 2 -->\n<g id=\"node2\" class=\"node\">\n<title>2</title>\n<ellipse fill=\"#ff006d\" stroke=\"#ff006d\" cx=\"41.5\" cy=\"-270\" rx=\"23.5\" ry=\"23.5\"/>\n<text text-anchor=\"middle\" x=\"41.5\" y=\"-266.3\" font-family=\"Times,serif\" font-size=\"14.00\" fill=\"#ff006d\">2</text>\n</g>\n<!-- 2&#45;&gt;5 -->\n<g id=\"edge2\" class=\"edge\">\n<title>2&#45;&gt;5</title>\n<path fill=\"none\" stroke=\"#707070\" stroke-width=\"2\" d=\"M56.6225,-251.9693C76.3402,-228.4598 110.6326,-187.5727 130.3593,-164.0524\"/>\n</g>\n<!-- 2&#45;&gt;6 -->\n<g id=\"edge6\" class=\"edge\">\n<title>2&#45;&gt;6</title>\n<path fill=\"none\" stroke=\"#707070\" stroke-width=\"2\" d=\"M52.2381,-248.627C72.2189,-208.8576 114.8838,-123.9379 134.8203,-84.2567\"/>\n</g>\n<!-- 2&#45;&gt;7 -->\n<g id=\"edge10\" class=\"edge\">\n<title>2&#45;&gt;7</title>\n<path fill=\"none\" stroke=\"#707070\" stroke-width=\"2\" d=\"M56.6225,-288.1761C76.3402,-311.8752 110.6326,-353.092 130.3593,-376.802\"/>\n</g>\n<!-- 2&#45;&gt;8 -->\n<g id=\"edge14\" class=\"edge\">\n<title>2&#45;&gt;8</title>\n<path fill=\"none\" stroke=\"#707070\" stroke-width=\"2\" d=\"M63.3018,-278.8046C80.9324,-285.9246 105.6506,-295.907 123.3687,-303.0624\"/>\n</g>\n<!-- 2&#45;&gt;9 -->\n<g id=\"edge18\" class=\"edge\">\n<title>2&#45;&gt;9</title>\n<path fill=\"none\" stroke=\"#707070\" stroke-width=\"2\" d=\"M63.5557,-261.305C81.2049,-254.3471 105.8353,-244.637 123.4761,-237.6825\"/>\n</g>\n<!-- 3 -->\n<g id=\"node3\" class=\"node\">\n<title>3</title>\n<ellipse fill=\"#ff006d\" stroke=\"#ff006d\" cx=\"41.5\" cy=\"-187\" rx=\"23.5\" ry=\"23.5\"/>\n<text text-anchor=\"middle\" x=\"41.5\" y=\"-183.3\" font-family=\"Times,serif\" font-size=\"14.00\" fill=\"#ff006d\">3</text>\n</g>\n<!-- 3&#45;&gt;5 -->\n<g id=\"edge3\" class=\"edge\">\n<title>3&#45;&gt;5</title>\n<path fill=\"none\" stroke=\"#707070\" stroke-width=\"2\" d=\"M63.5557,-178.305C81.2049,-171.3471 105.8353,-161.637 123.4761,-154.6825\"/>\n</g>\n<!-- 3&#45;&gt;6 -->\n<g id=\"edge7\" class=\"edge\">\n<title>3&#45;&gt;6</title>\n<path fill=\"none\" stroke=\"#707070\" stroke-width=\"2\" d=\"M56.6225,-168.9693C76.3402,-145.4598 110.6326,-104.5727 130.3593,-81.0524\"/>\n</g>\n<!-- 3&#45;&gt;7 -->\n<g id=\"edge11\" class=\"edge\">\n<title>3&#45;&gt;7</title>\n<path fill=\"none\" stroke=\"#707070\" stroke-width=\"2\" d=\"M52.0444,-208.0888C71.9775,-247.9551 114.973,-333.9461 134.9277,-373.8554\"/>\n</g>\n<!-- 3&#45;&gt;8 -->\n<g id=\"edge15\" class=\"edge\">\n<title>3&#45;&gt;8</title>\n<path fill=\"none\" stroke=\"#707070\" stroke-width=\"2\" d=\"M56.6225,-205.1761C76.3402,-228.8752 110.6326,-270.092 130.3593,-293.802\"/>\n</g>\n<!-- 3&#45;&gt;9 -->\n<g id=\"edge19\" class=\"edge\">\n<title>3&#45;&gt;9</title>\n<path fill=\"none\" stroke=\"#707070\" stroke-width=\"2\" d=\"M63.3018,-195.8046C80.9324,-202.9246 105.6506,-212.907 123.3687,-220.0624\"/>\n</g>\n<!-- 4 -->\n<g id=\"node4\" class=\"node\">\n<title>4</title>\n<ellipse fill=\"#ff006d\" stroke=\"#ff006d\" cx=\"41.5\" cy=\"-104\" rx=\"23.5\" ry=\"23.5\"/>\n<text text-anchor=\"middle\" x=\"41.5\" y=\"-100.3\" font-family=\"Times,serif\" font-size=\"14.00\" fill=\"#ff006d\">4</text>\n</g>\n<!-- 4&#45;&gt;5 -->\n<g id=\"edge4\" class=\"edge\">\n<title>4&#45;&gt;5</title>\n<path fill=\"none\" stroke=\"#707070\" stroke-width=\"2\" d=\"M63.3018,-112.8046C80.9324,-119.9246 105.6506,-129.907 123.3687,-137.0624\"/>\n</g>\n<!-- 4&#45;&gt;6 -->\n<g id=\"edge8\" class=\"edge\">\n<title>4&#45;&gt;6</title>\n<path fill=\"none\" stroke=\"#707070\" stroke-width=\"2\" d=\"M63.5557,-95.305C81.2049,-88.3471 105.8353,-78.637 123.4761,-71.6825\"/>\n</g>\n<!-- 4&#45;&gt;7 -->\n<g id=\"edge12\" class=\"edge\">\n<title>4&#45;&gt;7</title>\n<path fill=\"none\" stroke=\"#707070\" stroke-width=\"2\" d=\"M49.488,-126.3511C68.8467,-180.5181 118.0981,-318.3275 137.4848,-372.5728\"/>\n</g>\n<!-- 4&#45;&gt;8 -->\n<g id=\"edge16\" class=\"edge\">\n<title>4&#45;&gt;8</title>\n<path fill=\"none\" stroke=\"#707070\" stroke-width=\"2\" d=\"M52.0444,-125.0888C71.9775,-164.9551 114.973,-250.9461 134.9277,-290.8554\"/>\n</g>\n<!-- 4&#45;&gt;9 -->\n<g id=\"edge20\" class=\"edge\">\n<title>4&#45;&gt;9</title>\n<path fill=\"none\" stroke=\"#707070\" stroke-width=\"2\" d=\"M56.6225,-122.1761C76.3402,-145.8752 110.6326,-187.092 130.3593,-210.802\"/>\n</g>\n<!-- 10 -->\n<g id=\"node10\" class=\"node\">\n<title>10</title>\n<ellipse fill=\"#01befe\" stroke=\"#01befe\" cx=\"260.5\" cy=\"-146\" rx=\"23.5\" ry=\"23.5\"/>\n<text text-anchor=\"middle\" x=\"260.5\" y=\"-142.3\" font-family=\"Times,serif\" font-size=\"14.00\" fill=\"#01befe\">10</text>\n</g>\n<!-- 5&#45;&gt;10 -->\n<g id=\"edge21\" class=\"edge\">\n<title>5&#45;&gt;10</title>\n<path fill=\"none\" stroke=\"#707070\" stroke-width=\"2\" d=\"M169.0495,-146C188.8946,-146 217.1458,-146 236.982,-146\"/>\n</g>\n<!-- 11 -->\n<g id=\"node11\" class=\"node\">\n<title>11</title>\n<ellipse fill=\"#01befe\" stroke=\"#01befe\" cx=\"260.5\" cy=\"-312\" rx=\"23.5\" ry=\"23.5\"/>\n<text text-anchor=\"middle\" x=\"260.5\" y=\"-308.3\" font-family=\"Times,serif\" font-size=\"14.00\" fill=\"#01befe\">11</text>\n</g>\n<!-- 5&#45;&gt;11 -->\n<g id=\"edge26\" class=\"edge\">\n<title>5&#45;&gt;11</title>\n<path fill=\"none\" stroke=\"#707070\" stroke-width=\"2\" d=\"M158.917,-165.3672C181.0171,-197.2681 224.8303,-260.5116 246.9907,-292.4996\"/>\n</g>\n<!-- 12 -->\n<g id=\"node12\" class=\"node\">\n<title>12</title>\n<ellipse fill=\"#01befe\" stroke=\"#01befe\" cx=\"260.5\" cy=\"-229\" rx=\"23.5\" ry=\"23.5\"/>\n<text text-anchor=\"middle\" x=\"260.5\" y=\"-225.3\" font-family=\"Times,serif\" font-size=\"14.00\" fill=\"#01befe\">12</text>\n</g>\n<!-- 5&#45;&gt;12 -->\n<g id=\"edge31\" class=\"edge\">\n<title>5&#45;&gt;12</title>\n<path fill=\"none\" stroke=\"#707070\" stroke-width=\"2\" d=\"M164.7484,-159.8923C185.9768,-175.2137 219.9354,-199.7229 241.1888,-215.0623\"/>\n</g>\n<!-- 6&#45;&gt;10 -->\n<g id=\"edge22\" class=\"edge\">\n<title>6&#45;&gt;10</title>\n<path fill=\"none\" stroke=\"#707070\" stroke-width=\"2\" d=\"M164.7484,-76.8923C185.9768,-92.2137 219.9354,-116.7229 241.1888,-132.0623\"/>\n</g>\n<!-- 6&#45;&gt;11 -->\n<g id=\"edge27\" class=\"edge\">\n<title>6&#45;&gt;11</title>\n<path fill=\"none\" stroke=\"#707070\" stroke-width=\"2\" d=\"M155.5043,-84.6615C177.3081,-131.8715 228.8929,-243.5638 250.6007,-290.5659\"/>\n</g>\n<!-- 6&#45;&gt;12 -->\n<g id=\"edge32\" class=\"edge\">\n<title>6&#45;&gt;12</title>\n<path fill=\"none\" stroke=\"#707070\" stroke-width=\"2\" d=\"M158.917,-82.3672C181.0171,-114.2681 224.8303,-177.5116 246.9907,-209.4996\"/>\n</g>\n<!-- 7&#45;&gt;10 -->\n<g id=\"edge23\" class=\"edge\">\n<title>7&#45;&gt;10</title>\n<path fill=\"none\" stroke=\"#707070\" stroke-width=\"2\" d=\"M155.5043,-373.3385C177.3081,-326.1285 228.8929,-214.4362 250.6007,-167.4341\"/>\n</g>\n<!-- 7&#45;&gt;11 -->\n<g id=\"edge28\" class=\"edge\">\n<title>7&#45;&gt;11</title>\n<path fill=\"none\" stroke=\"#707070\" stroke-width=\"2\" d=\"M164.7484,-381.1077C185.9768,-365.7863 219.9354,-341.2771 241.1888,-325.9377\"/>\n</g>\n<!-- 7&#45;&gt;12 -->\n<g id=\"edge33\" class=\"edge\">\n<title>7&#45;&gt;12</title>\n<path fill=\"none\" stroke=\"#707070\" stroke-width=\"2\" d=\"M158.917,-375.6328C181.0171,-343.7319 224.8303,-280.4884 246.9907,-248.5004\"/>\n</g>\n<!-- 8&#45;&gt;10 -->\n<g id=\"edge24\" class=\"edge\">\n<title>8&#45;&gt;10</title>\n<path fill=\"none\" stroke=\"#707070\" stroke-width=\"2\" d=\"M158.917,-292.6328C181.0171,-260.7319 224.8303,-197.4884 246.9907,-165.5004\"/>\n</g>\n<!-- 8&#45;&gt;11 -->\n<g id=\"edge29\" class=\"edge\">\n<title>8&#45;&gt;11</title>\n<path fill=\"none\" stroke=\"#707070\" stroke-width=\"2\" d=\"M169.0495,-312C188.8946,-312 217.1458,-312 236.982,-312\"/>\n</g>\n<!-- 8&#45;&gt;12 -->\n<g id=\"edge34\" class=\"edge\">\n<title>8&#45;&gt;12</title>\n<path fill=\"none\" stroke=\"#707070\" stroke-width=\"2\" d=\"M164.7484,-298.1077C185.9768,-282.7863 219.9354,-258.2771 241.1888,-242.9377\"/>\n</g>\n<!-- 9&#45;&gt;10 -->\n<g id=\"edge25\" class=\"edge\">\n<title>9&#45;&gt;10</title>\n<path fill=\"none\" stroke=\"#707070\" stroke-width=\"2\" d=\"M164.7484,-215.1077C185.9768,-199.7863 219.9354,-175.2771 241.1888,-159.9377\"/>\n</g>\n<!-- 9&#45;&gt;11 -->\n<g id=\"edge30\" class=\"edge\">\n<title>9&#45;&gt;11</title>\n<path fill=\"none\" stroke=\"#707070\" stroke-width=\"2\" d=\"M164.7484,-242.8923C185.9768,-258.2137 219.9354,-282.7229 241.1888,-298.0623\"/>\n</g>\n<!-- 9&#45;&gt;12 -->\n<g id=\"edge35\" class=\"edge\">\n<title>9&#45;&gt;12</title>\n<path fill=\"none\" stroke=\"#707070\" stroke-width=\"2\" d=\"M169.0495,-229C188.8946,-229 217.1458,-229 236.982,-229\"/>\n</g>\n<!-- 13 -->\n<g id=\"node13\" class=\"node\">\n<title>13</title>\n<ellipse fill=\"#93d30c\" stroke=\"#93d30c\" cx=\"368.5\" cy=\"-229\" rx=\"23.5\" ry=\"23.5\"/>\n<text text-anchor=\"middle\" x=\"368.5\" y=\"-225.3\" font-family=\"Times,serif\" font-size=\"14.00\" fill=\"#93d30c\">13</text>\n</g>\n<!-- 10&#45;&gt;13 -->\n<g id=\"edge36\" class=\"edge\">\n<title>10&#45;&gt;13</title>\n<path fill=\"none\" stroke=\"#707070\" stroke-width=\"2\" d=\"M279.3122,-160.4575C299.014,-175.5987 329.7845,-199.2464 349.541,-214.4297\"/>\n</g>\n<!-- 11&#45;&gt;13 -->\n<g id=\"edge37\" class=\"edge\">\n<title>11&#45;&gt;13</title>\n<path fill=\"none\" stroke=\"#707070\" stroke-width=\"2\" d=\"M279.3122,-297.5425C299.014,-282.4013 329.7845,-258.7536 349.541,-243.5703\"/>\n</g>\n<!-- 12&#45;&gt;13 -->\n<g id=\"edge38\" class=\"edge\">\n<title>12&#45;&gt;13</title>\n<path fill=\"none\" stroke=\"#707070\" stroke-width=\"2\" d=\"M284.2011,-229C302.208,-229 326.8609,-229 344.8542,-229\"/>\n</g>\n</g>\n</svg>\n"
          },
          "metadata": {},
          "execution_count": 698
        }
      ]
    },
    {
      "cell_type": "markdown",
      "source": [
        "On peut aussi afficher la structure du modèle:"
      ],
      "metadata": {
        "id": "4wZ_FJ1qjesC"
      }
    },
    {
      "cell_type": "code",
      "source": [
        "# Check model structure\n",
        "print(\"Model structure: \", model, \"\\n\\n\")\n",
        "\n",
        "for name, param in model.named_parameters():\n",
        "    print(f\"Layer: {name} | Size: {param.size()} | Values : {param[:2]} \\n\")"
      ],
      "metadata": {
        "id": "nLQ9RukGBgwL",
        "colab": {
          "base_uri": "https://localhost:8080/"
        },
        "outputId": "60c7a84a-bca0-4029-fd46-94018d9ab3ed"
      },
      "execution_count": 699,
      "outputs": [
        {
          "output_type": "stream",
          "name": "stdout",
          "text": [
            "Model structure:  MLP(\n",
            "  (fc1): Linear(in_features=4, out_features=5, bias=True)\n",
            "  (fc2): Linear(in_features=5, out_features=3, bias=True)\n",
            "  (fc3): Linear(in_features=3, out_features=1, bias=True)\n",
            ") \n",
            "\n",
            "\n",
            "Layer: fc1.weight | Size: torch.Size([5, 4]) | Values : tensor([[ 0.3823,  0.4150, -0.1171,  0.4593],\n",
            "        [-0.1096,  0.1009, -0.2434,  0.2936]], grad_fn=<SliceBackward0>) \n",
            "\n",
            "Layer: fc1.bias | Size: torch.Size([5]) | Values : tensor([-0.2304, -0.0586], grad_fn=<SliceBackward0>) \n",
            "\n",
            "Layer: fc2.weight | Size: torch.Size([3, 5]) | Values : tensor([[-0.2062, -0.1263, -0.2689,  0.0422, -0.4417],\n",
            "        [ 0.4039, -0.3799,  0.3453,  0.0744, -0.1452]],\n",
            "       grad_fn=<SliceBackward0>) \n",
            "\n",
            "Layer: fc2.bias | Size: torch.Size([3]) | Values : tensor([ 0.1202, -0.1213], grad_fn=<SliceBackward0>) \n",
            "\n",
            "Layer: fc3.weight | Size: torch.Size([1, 3]) | Values : tensor([[ 0.5155,  0.3337, -0.2524]], grad_fn=<SliceBackward0>) \n",
            "\n",
            "Layer: fc3.bias | Size: torch.Size([1]) | Values : tensor([0.3333], grad_fn=<SliceBackward0>) \n",
            "\n"
          ]
        }
      ]
    },
    {
      "cell_type": "markdown",
      "source": [
        "18. Maintenant que le réseau est créé, vous allez définir ses hyperparamètres.   \n",
        "On veut utiliser la fonction de perte **nn.BCELoss** et l'optimiseur **optim.SGD** avec un learning rate de 0.001"
      ],
      "metadata": {
        "id": "_7U2QzFAjiT8"
      }
    },
    {
      "cell_type": "code",
      "source": [
        "## Hyperparameters\n",
        "\n",
        "# Choose the loss function\n",
        "criterion = nn.BCELoss()\n",
        "# Choose the optimizer\n",
        "optimizer = optim.SGD(model.parameters(), lr=0.001)"
      ],
      "metadata": {
        "id": "DdH5TclOu6oO"
      },
      "execution_count": 700,
      "outputs": []
    },
    {
      "cell_type": "markdown",
      "source": [
        "Ensuite on définit quelques fonctions et listes..."
      ],
      "metadata": {
        "id": "1sbzFNAOjvA0"
      }
    },
    {
      "cell_type": "code",
      "source": [
        "# Define a wee function to compute accuracy\n",
        "def calculate_accuracy(y_true, y_pred):\n",
        "  predicted = y_pred.ge(.5).view(-1)\n",
        "  return (y_true == predicted).sum().float() / len(y_true)\n",
        "\n",
        "# Define a function to round numbers\n",
        "def round_tensor(t, decimal_places=3):\n",
        "  return round(t.item(), decimal_places)"
      ],
      "metadata": {
        "id": "ZTtm6B9Dvdqw"
      },
      "execution_count": 701,
      "outputs": []
    },
    {
      "cell_type": "code",
      "source": [
        "# Create some empty lists to pick up some values during training\n",
        "list_train_loss = []\n",
        "list_val_loss = []\n",
        "list_train_acc = []\n",
        "list_val_acc = []"
      ],
      "metadata": {
        "id": "RwYfau24zgnz"
      },
      "execution_count": 702,
      "outputs": []
    },
    {
      "cell_type": "markdown",
      "source": [
        "#### Training"
      ],
      "metadata": {
        "id": "gd8Sd0lO-FnA"
      }
    },
    {
      "cell_type": "markdown",
      "source": [
        "19. C'est ici que l'entraînement du modèle va avoir lieu. Les données seront lues 1000 fois (1000 epochs). Vous allez devoir compléter les lignes de codes et permettre l'entraînement du modèle."
      ],
      "metadata": {
        "id": "CLB-5AtIj0sb"
      }
    },
    {
      "cell_type": "code",
      "source": [
        "############## TRAINING ##############\n",
        "for epoch in range(1000):\n",
        "    \n",
        "    # Do prediction on trainset\n",
        "    y_pred = model(x_train)\n",
        "    y_pred = torch.squeeze(y_pred)\n",
        "\n",
        "    # Compute loss\n",
        "    train_loss = criterion(y_pred, y_train)\n",
        "    \n",
        "    # For some epoch compute val loss and accuracy\n",
        "    if epoch % 100 == 0:\n",
        "      # Accuracy between train and true\n",
        "      train_acc = calculate_accuracy(y_train, y_pred)\n",
        "      \n",
        "      # Prediction on X_validation\n",
        "      y_val_pred = model(x_validation)\n",
        "      y_val_pred = torch.squeeze(y_val_pred)\n",
        "\n",
        "      # Compute loss and accuracy on validation\n",
        "      val_loss = criterion(y_val_pred, y_validation)\n",
        "      val_acc = calculate_accuracy(y_validation, y_val_pred)\n",
        "\n",
        "      # Save train/val loss/accuracy\n",
        "      list_train_loss.append(round_tensor(train_loss))\n",
        "      list_val_loss.append(round_tensor(val_loss))\n",
        "      list_train_acc.append(round_tensor(train_acc))\n",
        "      list_val_acc.append(round_tensor(val_acc))\n",
        "\n",
        "      # Print some informations\n",
        "      print(\n",
        "f'''epoch {epoch}\n",
        "Train set - loss: {round_tensor(train_loss)}, accuracy: {round_tensor(train_acc)}\n",
        "Validation  set - loss: {round_tensor(val_loss)}, accuracy: {round_tensor(val_acc)}\n",
        "''')\n",
        "    \n",
        "    # All gradients to zero (avoid exploding gradient)\n",
        "    optimizer.zero_grad()\n",
        "\n",
        "    # Backproapagation\n",
        "    train_loss.backward()\n",
        "    \n",
        "    # Update weights\n",
        "    optimizer.step()"
      ],
      "metadata": {
        "id": "rN3lOHvIvFJO",
        "colab": {
          "base_uri": "https://localhost:8080/"
        },
        "outputId": "8554915a-e32f-45b7-ec6d-73a852e5c0c7"
      },
      "execution_count": 703,
      "outputs": [
        {
          "output_type": "stream",
          "name": "stdout",
          "text": [
            "epoch 0\n",
            "Train set - loss: 7.333, accuracy: 0.461\n",
            "Validation  set - loss: 7.392, accuracy: 0.457\n",
            "\n",
            "epoch 100\n",
            "Train set - loss: 16.048, accuracy: 0.539\n",
            "Validation  set - loss: 15.897, accuracy: 0.543\n",
            "\n",
            "epoch 200\n",
            "Train set - loss: 0.66, accuracy: 0.652\n",
            "Validation  set - loss: 0.66, accuracy: 0.658\n",
            "\n",
            "epoch 300\n",
            "Train set - loss: 0.687, accuracy: 0.491\n",
            "Validation  set - loss: 0.689, accuracy: 0.486\n",
            "\n",
            "epoch 400\n",
            "Train set - loss: 0.631, accuracy: 0.625\n",
            "Validation  set - loss: 0.632, accuracy: 0.624\n",
            "\n",
            "epoch 500\n",
            "Train set - loss: 0.623, accuracy: 0.63\n",
            "Validation  set - loss: 0.624, accuracy: 0.63\n",
            "\n",
            "epoch 600\n",
            "Train set - loss: 0.612, accuracy: 0.643\n",
            "Validation  set - loss: 0.613, accuracy: 0.642\n",
            "\n",
            "epoch 700\n",
            "Train set - loss: 0.603, accuracy: 0.654\n",
            "Validation  set - loss: 0.604, accuracy: 0.654\n",
            "\n",
            "epoch 800\n",
            "Train set - loss: 0.596, accuracy: 0.662\n",
            "Validation  set - loss: 0.596, accuracy: 0.661\n",
            "\n",
            "epoch 900\n",
            "Train set - loss: 0.589, accuracy: 0.669\n",
            "Validation  set - loss: 0.589, accuracy: 0.67\n",
            "\n"
          ]
        }
      ]
    },
    {
      "cell_type": "markdown",
      "source": [
        "20. Afin d'éviter l'overfitting ou l'underfitting de notre modèle, vous allez analyser les valeurs de perte que relevées pour le trainset et validation set. Utilisez les variables *list_train_loss* et *list__loss* et tracez leur variation en fonction de leur epoch associée. **plt.plot()**"
      ],
      "metadata": {
        "id": "na9X7mzrj8Ix"
      }
    },
    {
      "cell_type": "code",
      "source": [
        "# Check overfitting (Train Loss vs Test Loss)\n",
        "plt.plot(list_train_loss)\n",
        "plt.plot(list_val_loss)"
      ],
      "metadata": {
        "id": "x2cj5E9MwmOT",
        "colab": {
          "base_uri": "https://localhost:8080/",
          "height": 503
        },
        "outputId": "58f98e82-aa4d-4ab3-af40-86d2f8527c40"
      },
      "execution_count": 704,
      "outputs": [
        {
          "output_type": "execute_result",
          "data": {
            "text/plain": [
              "[<matplotlib.lines.Line2D at 0x7f0b2a8ba810>]"
            ]
          },
          "metadata": {},
          "execution_count": 704
        },
        {
          "output_type": "display_data",
          "data": {
            "image/png": "[encoded data removed]",
            "text/plain": [
              "<Figure size 864x576 with 1 Axes>"
            ]
          },
          "metadata": {
            "image/png": {
              "width": 707,
              "height": 468
            }
          }
        }
      ]
    },
    {
      "cell_type": "markdown",
      "source": [
        "#### Test\n",
        "Le test est une étape d'inférence. Le modèle maintenant entraîné va être capable de faire des prédictions sur des données qu'il n'a jamais vu. Nous pourrons alors déterminer son efficacité."
      ],
      "metadata": {
        "id": "vubQoEu_96pi"
      }
    },
    {
      "cell_type": "markdown",
      "source": [
        "21. Vous devez donc créer 2 variables issues de *df_test*: *X_test* et *y_test*. Comme précédemment, convertir d'abord *df_test[X]* en array puis en tensor et en float. Pareil pour *df_test[y]*.  \n",
        "Puis faire les prédiction à l'aide du modèle sur les données *X_test*."
      ],
      "metadata": {
        "id": "jVwlKUuwkYhM"
      }
    },
    {
      "cell_type": "code",
      "source": [
        "# Convert data from numpy to tensor\n",
        "# x_test, y_test =  train_test_split(df_test, random_state=RANDOM_SEED)\n",
        "\n",
        "x_test = df_test.drop(columns='RainTomorrow')\n",
        "y_test = df_test.drop(columns=['Rainfall',  'Humidity3pm' , 'Pressure9am',  'RainToday'])\n",
        "\n",
        "x_test = torch.from_numpy(x_test.to_numpy()).float()\n",
        "y_test = (torch.from_numpy(y_test.to_numpy()).float()).squeeze()\n",
        "print(x_test.dtype)\n",
        "print(y_test.dtype)"
      ],
      "metadata": {
        "id": "mb0wo_PKyNAS",
        "colab": {
          "base_uri": "https://localhost:8080/"
        },
        "outputId": "d6104453-8e28-4927-8beb-bbfdcc50efff"
      },
      "execution_count": 705,
      "outputs": [
        {
          "output_type": "stream",
          "name": "stdout",
          "text": [
            "torch.float32\n",
            "torch.float32\n"
          ]
        }
      ]
    },
    {
      "cell_type": "code",
      "source": [
        ""
      ],
      "metadata": {
        "id": "OOcBv6Ltx8xE"
      },
      "execution_count": 705,
      "outputs": []
    },
    {
      "cell_type": "markdown",
      "source": [
        "22. Utiliser la fonction **classification_report** pour obtenir toutes les métriques qui vous aideront à qualifier les performances de votre modèle."
      ],
      "metadata": {
        "id": "4aE0AhDHkkcD"
      }
    },
    {
      "cell_type": "code",
      "source": [
        "# Do prediction on testset\n",
        "y_pred = model(x_test)\n",
        "for i in range(len(y_pred)):\n",
        "  if y_pred[i] >= 0.5:\n",
        "    y_pred[i] = 1\n",
        "  else:\n",
        "    y_pred[i] = 0\n",
        "\n",
        "classes = ['No rain', 'Raining']\n",
        "print(classification_report(y_test.detach().numpy(), y_pred.detach().numpy(), target_names=classes))"
      ],
      "metadata": {
        "id": "cBoKKqJokleU",
        "colab": {
          "base_uri": "https://localhost:8080/"
        },
        "outputId": "aa35f22c-8aff-43d5-a168-45eb7fbbae0c"
      },
      "execution_count": 706,
      "outputs": [
        {
          "output_type": "stream",
          "name": "stdout",
          "text": [
            "              precision    recall  f1-score   support\n",
            "\n",
            "     No rain       0.93      0.53      0.67     19413\n",
            "     Raining       0.34      0.85      0.49      5525\n",
            "\n",
            "    accuracy                           0.60     24938\n",
            "   macro avg       0.63      0.69      0.58     24938\n",
            "weighted avg       0.80      0.60      0.63     24938\n",
            "\n"
          ]
        }
      ]
    },
    {
      "cell_type": "markdown",
      "source": [
        "#### Confusion Matrix"
      ],
      "metadata": {
        "id": "UOgdYsLBF-jA"
      }
    },
    {
      "cell_type": "markdown",
      "source": [
        "23. Ici, je vous ai créé la matrice de confusion associée aux résultats du test. Conclure sur l'efficacité de votre modèle:"
      ],
      "metadata": {
        "id": "1FYowJZTkstc"
      }
    },
    {
      "cell_type": "code",
      "source": [
        "cm = confusion_matrix(y_test.detach().numpy(), y_pred.detach().numpy())\n",
        "df_cm = pd.DataFrame(cm, index=classes, columns=classes)\n",
        "\n",
        "hmap = sns.heatmap(df_cm, annot=True, fmt=\"d\")\n",
        "hmap.yaxis.set_ticklabels(hmap.yaxis.get_ticklabels(), rotation=0, ha='right')\n",
        "hmap.xaxis.set_ticklabels(hmap.xaxis.get_ticklabels(), rotation=30, ha='right')\n",
        "plt.ylabel('True label')\n",
        "plt.xlabel('Predicted label');"
      ],
      "metadata": {
        "id": "16QP1gDEzL4X",
        "colab": {
          "base_uri": "https://localhost:8080/",
          "height": 521
        },
        "outputId": "948778f2-dd26-474c-dfd7-99ec9546ac8c"
      },
      "execution_count": 707,
      "outputs": [
        {
          "output_type": "display_data",
          "data": {
            "image/png": "[encoded data removed]",
            "text/plain": [
              "<Figure size 864x576 with 2 Axes>"
            ]
          },
          "metadata": {
            "image/png": {
              "width": 716,
              "height": 504
            }
          }
        }
      ]
    },
    {
      "cell_type": "code",
      "source": [
        "print(f'Number of \"No rain\" values: {np.count_nonzero(y_test.numpy() == 0)}')\n",
        "print(f'Number of \"Raining\" values: {np.count_nonzero(y_test.numpy() == 1)}')"
      ],
      "metadata": {
        "id": "3YZfdtpmwxhS",
        "colab": {
          "base_uri": "https://localhost:8080/"
        },
        "outputId": "6e46bc6e-1536-40d2-f5d5-74603af87dcc"
      },
      "execution_count": 708,
      "outputs": [
        {
          "output_type": "stream",
          "name": "stdout",
          "text": [
            "Number of \"No rain\" values: 19413\n",
            "Number of \"Raining\" values: 5525\n"
          ]
        }
      ]
    },
    {
      "cell_type": "markdown",
      "source": [
        "**Note:** avant de passer à la suite du TP, vous pouvez essayer de modifier l'architecture du MLP (nombre de layers, fonction d'activations, ...) que vous avez utilisé pour faire la prédiction et relancer le code en entier. Vous pourrez alors observer des variations de performances."
      ],
      "metadata": {
        "id": "yPRScCCysdlO"
      }
    },
    {
      "cell_type": "markdown",
      "source": [
        "## 3. A vous de jouer !"
      ],
      "metadata": {
        "id": "Qlc01SKMhTov"
      }
    },
    {
      "cell_type": "markdown",
      "source": [
        "Télécharger l'archive au [lien](https://www.kaggle.com/iabhishekofficial/mobile-price-classification/download) suivant et placez là dans un dossier Data2 que vous créerez.  \n",
        "Après avoir dézippé l'archive, vous trouverez un jeu de données de train et un de test. Vous trouverez une description des données [ici](https://www.kaggle.com/iabhishekofficial/mobile-price-classification?select=train.csv)."
      ],
      "metadata": {
        "id": "jaOhDdVUmBq2"
      }
    },
    {
      "cell_type": "markdown",
      "source": [
        "24. Sur le même principe que pour la partie **Build your own MLP**, vous devez créer un réseau de neurones multi-couche afin de prédire la classe de prix des téléphones du jeu de test. Vous êtes libre dans la préparation des données, le choix des variables et des paramètres (optimizer, learning rate, fonction d'activation, ...).  \n",
        "Utilisez la fonction [**classification_report()**](https://scikit-learn.org/stable/modules/generated/sklearn.metrics.classification_report.html) pour afficher les résultats de votre prédiction."
      ],
      "metadata": {
        "id": "rLtL4ryInXdy"
      }
    },
    {
      "cell_type": "code",
      "source": [
        ""
      ],
      "metadata": {
        "id": "D8IOK-q4njRj"
      },
      "execution_count": 708,
      "outputs": []
    }
  ]
}